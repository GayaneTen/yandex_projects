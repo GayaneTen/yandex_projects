{
 "cells": [
  {
   "cell_type": "markdown",
   "metadata": {},
   "source": [
    "# Анализ продаж для  интернет-магазина «Стримчик» (сборный проект)"
   ]
  },
  {
   "cell_type": "markdown",
   "metadata": {},
   "source": [
    "##### [Часть 1. Изучение общей информации:](#1-bullet)\n",
    "* Изученеие файлов с данными, получение общей информации, загрузка библиотек.\n",
    "* Нахождение и ликвидация пропусков.\n",
    "\n",
    "##### [Часть 2. Подготовка данных:](#2-bullet)\n",
    "* Приведение данных к нужным типам.\n",
    "* Нахождение и исправление аномалий и ошибок.\n",
    "* Вначале надо обработать пустые значения, привест таблицу в порядок, привести заголовки к нужному регистру, добавить новые столбцы\n",
    "##### [Часть 3. Анализ данных:](#4-bullet)\n",
    "* Посмотреть, сколько игр выпускалось в разные годы\n",
    "* Посмотреть, как менялись продажи по платформам. Определить актуальный период для прогноза\n",
    "* Посмотреть какие платформы лидируют по продажам, растут они или падают?\n",
    "* Избавиться от выбросов \n",
    "* Посмотреть, как влияют на продажи внутри одной популярной платформы отзывы пользователей и критиков. Построить диаграмму рассеяния и посчитать корреляцию между отзывами и продажами\n",
    "* Соотнести выводы с продажами игр на других платформах.\n",
    "* Посмотреть на общее распределение игр по жанрам. Определить прибыльные жанры\n",
    "* Определить для пользователя каждого региона (NA, EU, JP):\n",
    "Самые популярные платформы (топ-5)\n",
    "Самые популярные жанры (топ-5)\n",
    "Влияние  рейтинга ESRB на продажи в отдельном регионе\n",
    "##### [Часть 4 Проверка гипотез:](#4-bullet)\n",
    "Средние пользовательские рейтинги платформ Xbox One и PC одинаковые;\n",
    "Средние пользовательские рейтинги жанров Action (англ. «действие», экшен-игры) и Sports (англ. «спортивные соревнования») разные."
   ]
  },
  {
   "cell_type": "markdown",
   "metadata": {},
   "source": [
    "## <a id='1-bullet'></a>  Часть 1. Изучение общей информации:"
   ]
  },
  {
   "cell_type": "code",
   "execution_count": 1,
   "metadata": {},
   "outputs": [],
   "source": [
    "import pandas as pd\n",
    "import numpy as np\n",
    "import matplotlib.pyplot as plt\n",
    "from datetime import datetime\n",
    "import seaborn as sns\n",
    "import warnings\n",
    "warnings.filterwarnings('ignore')"
   ]
  },
  {
   "cell_type": "code",
   "execution_count": 2,
   "metadata": {},
   "outputs": [],
   "source": [
    "#data = pd.read_csv('/datasets/games.csv')\n",
    "data = pd.read_csv('C:/Users/Гаяне/Desktop/яндекс практика/games.csv')"
   ]
  },
  {
   "cell_type": "code",
   "execution_count": 3,
   "metadata": {},
   "outputs": [
    {
     "data": {
      "text/html": [
       "<div>\n",
       "<style scoped>\n",
       "    .dataframe tbody tr th:only-of-type {\n",
       "        vertical-align: middle;\n",
       "    }\n",
       "\n",
       "    .dataframe tbody tr th {\n",
       "        vertical-align: top;\n",
       "    }\n",
       "\n",
       "    .dataframe thead th {\n",
       "        text-align: right;\n",
       "    }\n",
       "</style>\n",
       "<table border=\"1\" class=\"dataframe\">\n",
       "  <thead>\n",
       "    <tr style=\"text-align: right;\">\n",
       "      <th></th>\n",
       "      <th>Name</th>\n",
       "      <th>Platform</th>\n",
       "      <th>Year_of_Release</th>\n",
       "      <th>Genre</th>\n",
       "      <th>NA_sales</th>\n",
       "      <th>EU_sales</th>\n",
       "      <th>JP_sales</th>\n",
       "      <th>Other_sales</th>\n",
       "      <th>Critic_Score</th>\n",
       "      <th>User_Score</th>\n",
       "      <th>Rating</th>\n",
       "    </tr>\n",
       "  </thead>\n",
       "  <tbody>\n",
       "    <tr>\n",
       "      <th>0</th>\n",
       "      <td>Wii Sports</td>\n",
       "      <td>Wii</td>\n",
       "      <td>2006.0</td>\n",
       "      <td>Sports</td>\n",
       "      <td>41.36</td>\n",
       "      <td>28.96</td>\n",
       "      <td>3.77</td>\n",
       "      <td>8.45</td>\n",
       "      <td>76.0</td>\n",
       "      <td>8</td>\n",
       "      <td>E</td>\n",
       "    </tr>\n",
       "    <tr>\n",
       "      <th>1</th>\n",
       "      <td>Super Mario Bros.</td>\n",
       "      <td>NES</td>\n",
       "      <td>1985.0</td>\n",
       "      <td>Platform</td>\n",
       "      <td>29.08</td>\n",
       "      <td>3.58</td>\n",
       "      <td>6.81</td>\n",
       "      <td>0.77</td>\n",
       "      <td>NaN</td>\n",
       "      <td>NaN</td>\n",
       "      <td>NaN</td>\n",
       "    </tr>\n",
       "    <tr>\n",
       "      <th>2</th>\n",
       "      <td>Mario Kart Wii</td>\n",
       "      <td>Wii</td>\n",
       "      <td>2008.0</td>\n",
       "      <td>Racing</td>\n",
       "      <td>15.68</td>\n",
       "      <td>12.76</td>\n",
       "      <td>3.79</td>\n",
       "      <td>3.29</td>\n",
       "      <td>82.0</td>\n",
       "      <td>8.3</td>\n",
       "      <td>E</td>\n",
       "    </tr>\n",
       "    <tr>\n",
       "      <th>3</th>\n",
       "      <td>Wii Sports Resort</td>\n",
       "      <td>Wii</td>\n",
       "      <td>2009.0</td>\n",
       "      <td>Sports</td>\n",
       "      <td>15.61</td>\n",
       "      <td>10.93</td>\n",
       "      <td>3.28</td>\n",
       "      <td>2.95</td>\n",
       "      <td>80.0</td>\n",
       "      <td>8</td>\n",
       "      <td>E</td>\n",
       "    </tr>\n",
       "    <tr>\n",
       "      <th>4</th>\n",
       "      <td>Pokemon Red/Pokemon Blue</td>\n",
       "      <td>GB</td>\n",
       "      <td>1996.0</td>\n",
       "      <td>Role-Playing</td>\n",
       "      <td>11.27</td>\n",
       "      <td>8.89</td>\n",
       "      <td>10.22</td>\n",
       "      <td>1.00</td>\n",
       "      <td>NaN</td>\n",
       "      <td>NaN</td>\n",
       "      <td>NaN</td>\n",
       "    </tr>\n",
       "    <tr>\n",
       "      <th>...</th>\n",
       "      <td>...</td>\n",
       "      <td>...</td>\n",
       "      <td>...</td>\n",
       "      <td>...</td>\n",
       "      <td>...</td>\n",
       "      <td>...</td>\n",
       "      <td>...</td>\n",
       "      <td>...</td>\n",
       "      <td>...</td>\n",
       "      <td>...</td>\n",
       "      <td>...</td>\n",
       "    </tr>\n",
       "    <tr>\n",
       "      <th>16710</th>\n",
       "      <td>Samurai Warriors: Sanada Maru</td>\n",
       "      <td>PS3</td>\n",
       "      <td>2016.0</td>\n",
       "      <td>Action</td>\n",
       "      <td>0.00</td>\n",
       "      <td>0.00</td>\n",
       "      <td>0.01</td>\n",
       "      <td>0.00</td>\n",
       "      <td>NaN</td>\n",
       "      <td>NaN</td>\n",
       "      <td>NaN</td>\n",
       "    </tr>\n",
       "    <tr>\n",
       "      <th>16711</th>\n",
       "      <td>LMA Manager 2007</td>\n",
       "      <td>X360</td>\n",
       "      <td>2006.0</td>\n",
       "      <td>Sports</td>\n",
       "      <td>0.00</td>\n",
       "      <td>0.01</td>\n",
       "      <td>0.00</td>\n",
       "      <td>0.00</td>\n",
       "      <td>NaN</td>\n",
       "      <td>NaN</td>\n",
       "      <td>NaN</td>\n",
       "    </tr>\n",
       "    <tr>\n",
       "      <th>16712</th>\n",
       "      <td>Haitaka no Psychedelica</td>\n",
       "      <td>PSV</td>\n",
       "      <td>2016.0</td>\n",
       "      <td>Adventure</td>\n",
       "      <td>0.00</td>\n",
       "      <td>0.00</td>\n",
       "      <td>0.01</td>\n",
       "      <td>0.00</td>\n",
       "      <td>NaN</td>\n",
       "      <td>NaN</td>\n",
       "      <td>NaN</td>\n",
       "    </tr>\n",
       "    <tr>\n",
       "      <th>16713</th>\n",
       "      <td>Spirits &amp; Spells</td>\n",
       "      <td>GBA</td>\n",
       "      <td>2003.0</td>\n",
       "      <td>Platform</td>\n",
       "      <td>0.01</td>\n",
       "      <td>0.00</td>\n",
       "      <td>0.00</td>\n",
       "      <td>0.00</td>\n",
       "      <td>NaN</td>\n",
       "      <td>NaN</td>\n",
       "      <td>NaN</td>\n",
       "    </tr>\n",
       "    <tr>\n",
       "      <th>16714</th>\n",
       "      <td>Winning Post 8 2016</td>\n",
       "      <td>PSV</td>\n",
       "      <td>2016.0</td>\n",
       "      <td>Simulation</td>\n",
       "      <td>0.00</td>\n",
       "      <td>0.00</td>\n",
       "      <td>0.01</td>\n",
       "      <td>0.00</td>\n",
       "      <td>NaN</td>\n",
       "      <td>NaN</td>\n",
       "      <td>NaN</td>\n",
       "    </tr>\n",
       "  </tbody>\n",
       "</table>\n",
       "<p>16715 rows × 11 columns</p>\n",
       "</div>"
      ],
      "text/plain": [
       "                                Name Platform  Year_of_Release         Genre  \\\n",
       "0                         Wii Sports      Wii           2006.0        Sports   \n",
       "1                  Super Mario Bros.      NES           1985.0      Platform   \n",
       "2                     Mario Kart Wii      Wii           2008.0        Racing   \n",
       "3                  Wii Sports Resort      Wii           2009.0        Sports   \n",
       "4           Pokemon Red/Pokemon Blue       GB           1996.0  Role-Playing   \n",
       "...                              ...      ...              ...           ...   \n",
       "16710  Samurai Warriors: Sanada Maru      PS3           2016.0        Action   \n",
       "16711               LMA Manager 2007     X360           2006.0        Sports   \n",
       "16712        Haitaka no Psychedelica      PSV           2016.0     Adventure   \n",
       "16713               Spirits & Spells      GBA           2003.0      Platform   \n",
       "16714            Winning Post 8 2016      PSV           2016.0    Simulation   \n",
       "\n",
       "       NA_sales  EU_sales  JP_sales  Other_sales  Critic_Score User_Score  \\\n",
       "0         41.36     28.96      3.77         8.45          76.0          8   \n",
       "1         29.08      3.58      6.81         0.77           NaN        NaN   \n",
       "2         15.68     12.76      3.79         3.29          82.0        8.3   \n",
       "3         15.61     10.93      3.28         2.95          80.0          8   \n",
       "4         11.27      8.89     10.22         1.00           NaN        NaN   \n",
       "...         ...       ...       ...          ...           ...        ...   \n",
       "16710      0.00      0.00      0.01         0.00           NaN        NaN   \n",
       "16711      0.00      0.01      0.00         0.00           NaN        NaN   \n",
       "16712      0.00      0.00      0.01         0.00           NaN        NaN   \n",
       "16713      0.01      0.00      0.00         0.00           NaN        NaN   \n",
       "16714      0.00      0.00      0.01         0.00           NaN        NaN   \n",
       "\n",
       "      Rating  \n",
       "0          E  \n",
       "1        NaN  \n",
       "2          E  \n",
       "3          E  \n",
       "4        NaN  \n",
       "...      ...  \n",
       "16710    NaN  \n",
       "16711    NaN  \n",
       "16712    NaN  \n",
       "16713    NaN  \n",
       "16714    NaN  \n",
       "\n",
       "[16715 rows x 11 columns]"
      ]
     },
     "execution_count": 3,
     "metadata": {},
     "output_type": "execute_result"
    }
   ],
   "source": [
    "data"
   ]
  },
  {
   "cell_type": "code",
   "execution_count": 4,
   "metadata": {},
   "outputs": [
    {
     "name": "stdout",
     "output_type": "stream",
     "text": [
      "<class 'pandas.core.frame.DataFrame'>\n",
      "RangeIndex: 16715 entries, 0 to 16714\n",
      "Data columns (total 11 columns):\n",
      " #   Column           Non-Null Count  Dtype  \n",
      "---  ------           --------------  -----  \n",
      " 0   Name             16713 non-null  object \n",
      " 1   Platform         16715 non-null  object \n",
      " 2   Year_of_Release  16446 non-null  float64\n",
      " 3   Genre            16713 non-null  object \n",
      " 4   NA_sales         16715 non-null  float64\n",
      " 5   EU_sales         16715 non-null  float64\n",
      " 6   JP_sales         16715 non-null  float64\n",
      " 7   Other_sales      16715 non-null  float64\n",
      " 8   Critic_Score     8137 non-null   float64\n",
      " 9   User_Score       10014 non-null  object \n",
      " 10  Rating           9949 non-null   object \n",
      "dtypes: float64(6), object(5)\n",
      "memory usage: 1.4+ MB\n"
     ]
    }
   ],
   "source": [
    "data.info()"
   ]
  },
  {
   "cell_type": "markdown",
   "metadata": {},
   "source": [
    "## <a id='2-bullet'></a> Часть 2. Предобработка данных. \n",
    "Замена названий столбцов на стандартные, изменение типа данных "
   ]
  },
  {
   "cell_type": "code",
   "execution_count": 5,
   "metadata": {},
   "outputs": [],
   "source": [
    "data.columns = map(str.lower, data.columns) #преобразование столбцов к нижнему регистру"
   ]
  },
  {
   "cell_type": "code",
   "execution_count": 6,
   "metadata": {},
   "outputs": [
    {
     "data": {
      "text/html": [
       "<div>\n",
       "<style scoped>\n",
       "    .dataframe tbody tr th:only-of-type {\n",
       "        vertical-align: middle;\n",
       "    }\n",
       "\n",
       "    .dataframe tbody tr th {\n",
       "        vertical-align: top;\n",
       "    }\n",
       "\n",
       "    .dataframe thead th {\n",
       "        text-align: right;\n",
       "    }\n",
       "</style>\n",
       "<table border=\"1\" class=\"dataframe\">\n",
       "  <thead>\n",
       "    <tr style=\"text-align: right;\">\n",
       "      <th></th>\n",
       "      <th>name</th>\n",
       "      <th>platform</th>\n",
       "      <th>year_of_release</th>\n",
       "      <th>genre</th>\n",
       "      <th>na_sales</th>\n",
       "      <th>eu_sales</th>\n",
       "      <th>jp_sales</th>\n",
       "      <th>other_sales</th>\n",
       "      <th>critic_score</th>\n",
       "      <th>user_score</th>\n",
       "      <th>rating</th>\n",
       "    </tr>\n",
       "  </thead>\n",
       "  <tbody>\n",
       "    <tr>\n",
       "      <th>0</th>\n",
       "      <td>Wii Sports</td>\n",
       "      <td>Wii</td>\n",
       "      <td>2006.0</td>\n",
       "      <td>Sports</td>\n",
       "      <td>41.36</td>\n",
       "      <td>28.96</td>\n",
       "      <td>3.77</td>\n",
       "      <td>8.45</td>\n",
       "      <td>76.0</td>\n",
       "      <td>8</td>\n",
       "      <td>E</td>\n",
       "    </tr>\n",
       "    <tr>\n",
       "      <th>1</th>\n",
       "      <td>Super Mario Bros.</td>\n",
       "      <td>NES</td>\n",
       "      <td>1985.0</td>\n",
       "      <td>Platform</td>\n",
       "      <td>29.08</td>\n",
       "      <td>3.58</td>\n",
       "      <td>6.81</td>\n",
       "      <td>0.77</td>\n",
       "      <td>NaN</td>\n",
       "      <td>NaN</td>\n",
       "      <td>NaN</td>\n",
       "    </tr>\n",
       "    <tr>\n",
       "      <th>2</th>\n",
       "      <td>Mario Kart Wii</td>\n",
       "      <td>Wii</td>\n",
       "      <td>2008.0</td>\n",
       "      <td>Racing</td>\n",
       "      <td>15.68</td>\n",
       "      <td>12.76</td>\n",
       "      <td>3.79</td>\n",
       "      <td>3.29</td>\n",
       "      <td>82.0</td>\n",
       "      <td>8.3</td>\n",
       "      <td>E</td>\n",
       "    </tr>\n",
       "    <tr>\n",
       "      <th>3</th>\n",
       "      <td>Wii Sports Resort</td>\n",
       "      <td>Wii</td>\n",
       "      <td>2009.0</td>\n",
       "      <td>Sports</td>\n",
       "      <td>15.61</td>\n",
       "      <td>10.93</td>\n",
       "      <td>3.28</td>\n",
       "      <td>2.95</td>\n",
       "      <td>80.0</td>\n",
       "      <td>8</td>\n",
       "      <td>E</td>\n",
       "    </tr>\n",
       "    <tr>\n",
       "      <th>4</th>\n",
       "      <td>Pokemon Red/Pokemon Blue</td>\n",
       "      <td>GB</td>\n",
       "      <td>1996.0</td>\n",
       "      <td>Role-Playing</td>\n",
       "      <td>11.27</td>\n",
       "      <td>8.89</td>\n",
       "      <td>10.22</td>\n",
       "      <td>1.00</td>\n",
       "      <td>NaN</td>\n",
       "      <td>NaN</td>\n",
       "      <td>NaN</td>\n",
       "    </tr>\n",
       "  </tbody>\n",
       "</table>\n",
       "</div>"
      ],
      "text/plain": [
       "                       name platform  year_of_release         genre  na_sales  \\\n",
       "0                Wii Sports      Wii           2006.0        Sports     41.36   \n",
       "1         Super Mario Bros.      NES           1985.0      Platform     29.08   \n",
       "2            Mario Kart Wii      Wii           2008.0        Racing     15.68   \n",
       "3         Wii Sports Resort      Wii           2009.0        Sports     15.61   \n",
       "4  Pokemon Red/Pokemon Blue       GB           1996.0  Role-Playing     11.27   \n",
       "\n",
       "   eu_sales  jp_sales  other_sales  critic_score user_score rating  \n",
       "0     28.96      3.77         8.45          76.0          8      E  \n",
       "1      3.58      6.81         0.77           NaN        NaN    NaN  \n",
       "2     12.76      3.79         3.29          82.0        8.3      E  \n",
       "3     10.93      3.28         2.95          80.0          8      E  \n",
       "4      8.89     10.22         1.00           NaN        NaN    NaN  "
      ]
     },
     "execution_count": 6,
     "metadata": {},
     "output_type": "execute_result"
    }
   ],
   "source": [
    "data.head()"
   ]
  },
  {
   "cell_type": "markdown",
   "metadata": {},
   "source": [
    "Год реализации (Year_of_Release) должно быть целое число и тип даты, а в данных это float. \n",
    "Тип данных в оценке пользователей \"объект\" надо заменить на числовой формат. \n",
    "Оценка по 100 бальной системе должна быть в целых числах, данные после запятой - нули, от них надо избавиться, привести к типу инт "
   ]
  },
  {
   "cell_type": "code",
   "execution_count": 7,
   "metadata": {},
   "outputs": [],
   "source": [
    "data['user_score'] = pd.to_numeric(data['user_score'], errors='ignore')"
   ]
  },
  {
   "cell_type": "code",
   "execution_count": 8,
   "metadata": {},
   "outputs": [
    {
     "name": "stdout",
     "output_type": "stream",
     "text": [
      "2424\n"
     ]
    }
   ],
   "source": [
    "print(data.query('user_score == \"tbd\"')['user_score'].count())"
   ]
  },
  {
   "cell_type": "markdown",
   "metadata": {},
   "source": [
    "В столбце с оценкой пользователей есть строковое значение \"tbd\", их достаточно много. похоже, что речь идет о новых играх, которые пользователи еще не успели оценить. Возможно, эти данные пригодятся для какого-то анализа. Можно создать дополнительный столбец, в котором они будут сохранены, а в самом столбце заменить их на nan, потом решить, что с ними делать.  В дополнительном стобце неизвестные данные будут заменены на медиану по оценке за последний год, поскольку это наиболее близкие данные. "
   ]
  },
  {
   "cell_type": "code",
   "execution_count": 9,
   "metadata": {},
   "outputs": [
    {
     "name": "stdout",
     "output_type": "stream",
     "text": [
      "7.0\n"
     ]
    }
   ],
   "source": [
    "data['new_user_score'] = data['user_score']\n",
    "data['new_user_score'] = pd.to_numeric(data['new_user_score'], errors='coerce')\n",
    "print(data.query('year_of_release == 2016')['new_user_score'].median())\n"
   ]
  },
  {
   "cell_type": "code",
   "execution_count": 10,
   "metadata": {},
   "outputs": [],
   "source": [
    "data.loc[data['user_score'] == \"tbd\", 'new_user_score'] = 7"
   ]
  },
  {
   "cell_type": "code",
   "execution_count": 11,
   "metadata": {},
   "outputs": [],
   "source": [
    "data['user_score'] = pd.to_numeric(data['user_score'], errors='coerce')"
   ]
  },
  {
   "cell_type": "code",
   "execution_count": 12,
   "metadata": {},
   "outputs": [
    {
     "data": {
      "text/html": [
       "<div>\n",
       "<style scoped>\n",
       "    .dataframe tbody tr th:only-of-type {\n",
       "        vertical-align: middle;\n",
       "    }\n",
       "\n",
       "    .dataframe tbody tr th {\n",
       "        vertical-align: top;\n",
       "    }\n",
       "\n",
       "    .dataframe thead th {\n",
       "        text-align: right;\n",
       "    }\n",
       "</style>\n",
       "<table border=\"1\" class=\"dataframe\">\n",
       "  <thead>\n",
       "    <tr style=\"text-align: right;\">\n",
       "      <th></th>\n",
       "      <th>name</th>\n",
       "      <th>platform</th>\n",
       "      <th>year_of_release</th>\n",
       "      <th>genre</th>\n",
       "      <th>na_sales</th>\n",
       "      <th>eu_sales</th>\n",
       "      <th>jp_sales</th>\n",
       "      <th>other_sales</th>\n",
       "      <th>critic_score</th>\n",
       "      <th>user_score</th>\n",
       "      <th>rating</th>\n",
       "      <th>new_user_score</th>\n",
       "    </tr>\n",
       "  </thead>\n",
       "  <tbody>\n",
       "    <tr>\n",
       "      <th>0</th>\n",
       "      <td>Wii Sports</td>\n",
       "      <td>Wii</td>\n",
       "      <td>2006.0</td>\n",
       "      <td>Sports</td>\n",
       "      <td>41.36</td>\n",
       "      <td>28.96</td>\n",
       "      <td>3.77</td>\n",
       "      <td>8.45</td>\n",
       "      <td>76.0</td>\n",
       "      <td>8.0</td>\n",
       "      <td>E</td>\n",
       "      <td>8.0</td>\n",
       "    </tr>\n",
       "    <tr>\n",
       "      <th>1</th>\n",
       "      <td>Super Mario Bros.</td>\n",
       "      <td>NES</td>\n",
       "      <td>1985.0</td>\n",
       "      <td>Platform</td>\n",
       "      <td>29.08</td>\n",
       "      <td>3.58</td>\n",
       "      <td>6.81</td>\n",
       "      <td>0.77</td>\n",
       "      <td>NaN</td>\n",
       "      <td>NaN</td>\n",
       "      <td>NaN</td>\n",
       "      <td>NaN</td>\n",
       "    </tr>\n",
       "    <tr>\n",
       "      <th>2</th>\n",
       "      <td>Mario Kart Wii</td>\n",
       "      <td>Wii</td>\n",
       "      <td>2008.0</td>\n",
       "      <td>Racing</td>\n",
       "      <td>15.68</td>\n",
       "      <td>12.76</td>\n",
       "      <td>3.79</td>\n",
       "      <td>3.29</td>\n",
       "      <td>82.0</td>\n",
       "      <td>8.3</td>\n",
       "      <td>E</td>\n",
       "      <td>8.3</td>\n",
       "    </tr>\n",
       "    <tr>\n",
       "      <th>3</th>\n",
       "      <td>Wii Sports Resort</td>\n",
       "      <td>Wii</td>\n",
       "      <td>2009.0</td>\n",
       "      <td>Sports</td>\n",
       "      <td>15.61</td>\n",
       "      <td>10.93</td>\n",
       "      <td>3.28</td>\n",
       "      <td>2.95</td>\n",
       "      <td>80.0</td>\n",
       "      <td>8.0</td>\n",
       "      <td>E</td>\n",
       "      <td>8.0</td>\n",
       "    </tr>\n",
       "    <tr>\n",
       "      <th>4</th>\n",
       "      <td>Pokemon Red/Pokemon Blue</td>\n",
       "      <td>GB</td>\n",
       "      <td>1996.0</td>\n",
       "      <td>Role-Playing</td>\n",
       "      <td>11.27</td>\n",
       "      <td>8.89</td>\n",
       "      <td>10.22</td>\n",
       "      <td>1.00</td>\n",
       "      <td>NaN</td>\n",
       "      <td>NaN</td>\n",
       "      <td>NaN</td>\n",
       "      <td>NaN</td>\n",
       "    </tr>\n",
       "  </tbody>\n",
       "</table>\n",
       "</div>"
      ],
      "text/plain": [
       "                       name platform  year_of_release         genre  na_sales  \\\n",
       "0                Wii Sports      Wii           2006.0        Sports     41.36   \n",
       "1         Super Mario Bros.      NES           1985.0      Platform     29.08   \n",
       "2            Mario Kart Wii      Wii           2008.0        Racing     15.68   \n",
       "3         Wii Sports Resort      Wii           2009.0        Sports     15.61   \n",
       "4  Pokemon Red/Pokemon Blue       GB           1996.0  Role-Playing     11.27   \n",
       "\n",
       "   eu_sales  jp_sales  other_sales  critic_score  user_score rating  \\\n",
       "0     28.96      3.77         8.45          76.0         8.0      E   \n",
       "1      3.58      6.81         0.77           NaN         NaN    NaN   \n",
       "2     12.76      3.79         3.29          82.0         8.3      E   \n",
       "3     10.93      3.28         2.95          80.0         8.0      E   \n",
       "4      8.89     10.22         1.00           NaN         NaN    NaN   \n",
       "\n",
       "   new_user_score  \n",
       "0             8.0  \n",
       "1             NaN  \n",
       "2             8.3  \n",
       "3             8.0  \n",
       "4             NaN  "
      ]
     },
     "execution_count": 12,
     "metadata": {},
     "output_type": "execute_result"
    }
   ],
   "source": [
    "data.head()"
   ]
  },
  {
   "cell_type": "markdown",
   "metadata": {},
   "source": [
    "### Пропуски\n",
    "* Пропуск в имени. Тут всего 2 пропуска, если не известно название игры, то нет смысла что-то фанатазировать, проще удалить 2 неизвестных значения. На результат это никак не повлияет.\n",
    "* Пропуски в столбце с годом выпуска. Меньше 300 пропусков.Этот столбец нужен для проверки одной из гипотз, хорошо бы его привести в формат даты. Пропущенные данные сложно привязать к какому-то критерию, можно использовать медиану, которая меньше всего подвержена выбросам и которая не повлияет на результат исследования. \n",
    "* Пропуск в оценке критиков. Может быть связано с тем, что игра слишком старая или наоборот только вышла, ее практически нет в продаже и нет соотеветсвенно нет оценок. В реальном проекте я бы не стала эти данные трогать, а предпочла бы работать с меньшим количеством данных, но точно известых, поскольку для слишком большого количества неизвестных приходится фантазировать. Но в учебном проекте наверное лучше что-то нафантазировать. Например, предположить, что рейтинг зависит от жанра, и заполнить пустые значения по медиане данных, сгруппированных по жанрам. На результат исследования это не должно повлиять, поскольку медиана меньше всего подвержена выбросам. Если жанры мало внияют на оценки, то это не отразится на результате, если влияют - то мы это учли. Можно было бы привязать рейтинг с продажами (категоризировать продажи на маленькие, большие, средние), но если верна гипотеза, что это старые или очень новые игры, то рейтинга нет просто потому что игры нет в продаже, а так она была бы такой же популярной, как другие этого же типа, а мы это не учтем. \n",
    "* Пропуски в оценке пользователей. Та же причина, что и в первом случае. Но здесь чуть меньше пустых значений, это может быть связано с тем, что пользователи могут оценить даже старые игры, тогда как критики не будут тратить на это время. Пользователи могли купить игры раньше, чем критики успели обратить на них внимание. Заполнять пропуски можно как и в предыдущем случае\n",
    "* Пропуски в возрастном рейтинге. В новых или старых играх возрастные ограничения могли быть не проставлены. Заполнять эти значения стоит после определения актуального периода, поскольку возрастыне ограничения менялись со временем. Это я сделаю в соотвествующем разделе перед анализом этого показателя.  "
   ]
  },
  {
   "cell_type": "code",
   "execution_count": 13,
   "metadata": {},
   "outputs": [],
   "source": [
    "# Удаление строк, которых нет в колонке с именем. \n",
    "data= data.dropna(subset=['name'])"
   ]
  },
  {
   "cell_type": "code",
   "execution_count": 14,
   "metadata": {},
   "outputs": [
    {
     "data": {
      "text/plain": [
       "0.0"
      ]
     },
     "execution_count": 14,
     "metadata": {},
     "output_type": "execute_result"
    }
   ],
   "source": [
    "null_data = data['year_of_release'].isna()\n",
    "data.query('year_of_release == @null_data and new_user_score == 11')['year_of_release'].sum()"
   ]
  },
  {
   "cell_type": "code",
   "execution_count": 15,
   "metadata": {},
   "outputs": [
    {
     "name": "stdout",
     "output_type": "stream",
     "text": [
      "2007.0\n"
     ]
    }
   ],
   "source": [
    "\n",
    "print(data['year_of_release'].median())\n",
    "data['year_of_release'] = data['year_of_release'].fillna(2007)"
   ]
  },
  {
   "cell_type": "code",
   "execution_count": 16,
   "metadata": {},
   "outputs": [
    {
     "data": {
      "text/plain": [
       "0"
      ]
     },
     "execution_count": 16,
     "metadata": {},
     "output_type": "execute_result"
    }
   ],
   "source": [
    "data['year_of_release'].isna().sum()"
   ]
  },
  {
   "cell_type": "code",
   "execution_count": 17,
   "metadata": {},
   "outputs": [],
   "source": [
    "# заполнение пропуском в рейтинге пользователей и критиков\n",
    "medians = data.groupby(['genre']).agg({'user_score': 'median', 'critic_score': 'median'}).rename(columns = {'user_score':'medians_user_score', 'critic_score': 'medians_critic_score'})\n",
    "new_data = data.merge(medians, on = ['genre'])\n",
    "new_data['new_user_score'] = new_data['new_user_score'].fillna(new_data['medians_user_score'])\n",
    "new_data['user_score'] = new_data['user_score'].fillna(new_data['medians_user_score'])\n",
    "new_data['critic_score'] = new_data['critic_score'].fillna(new_data['medians_critic_score'])"
   ]
  },
  {
   "cell_type": "code",
   "execution_count": 18,
   "metadata": {},
   "outputs": [
    {
     "data": {
      "text/html": [
       "<div>\n",
       "<style scoped>\n",
       "    .dataframe tbody tr th:only-of-type {\n",
       "        vertical-align: middle;\n",
       "    }\n",
       "\n",
       "    .dataframe tbody tr th {\n",
       "        vertical-align: top;\n",
       "    }\n",
       "\n",
       "    .dataframe thead th {\n",
       "        text-align: right;\n",
       "    }\n",
       "</style>\n",
       "<table border=\"1\" class=\"dataframe\">\n",
       "  <thead>\n",
       "    <tr style=\"text-align: right;\">\n",
       "      <th></th>\n",
       "      <th>name</th>\n",
       "      <th>platform</th>\n",
       "      <th>year_of_release</th>\n",
       "      <th>genre</th>\n",
       "      <th>na_sales</th>\n",
       "      <th>eu_sales</th>\n",
       "      <th>jp_sales</th>\n",
       "      <th>other_sales</th>\n",
       "      <th>critic_score</th>\n",
       "      <th>user_score</th>\n",
       "      <th>rating</th>\n",
       "      <th>new_user_score</th>\n",
       "      <th>medians_user_score</th>\n",
       "      <th>medians_critic_score</th>\n",
       "    </tr>\n",
       "  </thead>\n",
       "  <tbody>\n",
       "    <tr>\n",
       "      <th>0</th>\n",
       "      <td>Wii Sports</td>\n",
       "      <td>Wii</td>\n",
       "      <td>2006.0</td>\n",
       "      <td>Sports</td>\n",
       "      <td>41.36</td>\n",
       "      <td>28.96</td>\n",
       "      <td>3.77</td>\n",
       "      <td>8.45</td>\n",
       "      <td>76.0</td>\n",
       "      <td>8.0</td>\n",
       "      <td>E</td>\n",
       "      <td>8.0</td>\n",
       "      <td>7.4</td>\n",
       "      <td>75.0</td>\n",
       "    </tr>\n",
       "    <tr>\n",
       "      <th>1</th>\n",
       "      <td>Wii Sports Resort</td>\n",
       "      <td>Wii</td>\n",
       "      <td>2009.0</td>\n",
       "      <td>Sports</td>\n",
       "      <td>15.61</td>\n",
       "      <td>10.93</td>\n",
       "      <td>3.28</td>\n",
       "      <td>2.95</td>\n",
       "      <td>80.0</td>\n",
       "      <td>8.0</td>\n",
       "      <td>E</td>\n",
       "      <td>8.0</td>\n",
       "      <td>7.4</td>\n",
       "      <td>75.0</td>\n",
       "    </tr>\n",
       "    <tr>\n",
       "      <th>2</th>\n",
       "      <td>Wii Fit</td>\n",
       "      <td>Wii</td>\n",
       "      <td>2007.0</td>\n",
       "      <td>Sports</td>\n",
       "      <td>8.92</td>\n",
       "      <td>8.03</td>\n",
       "      <td>3.60</td>\n",
       "      <td>2.15</td>\n",
       "      <td>80.0</td>\n",
       "      <td>7.7</td>\n",
       "      <td>E</td>\n",
       "      <td>7.7</td>\n",
       "      <td>7.4</td>\n",
       "      <td>75.0</td>\n",
       "    </tr>\n",
       "    <tr>\n",
       "      <th>3</th>\n",
       "      <td>Wii Fit Plus</td>\n",
       "      <td>Wii</td>\n",
       "      <td>2009.0</td>\n",
       "      <td>Sports</td>\n",
       "      <td>9.01</td>\n",
       "      <td>8.49</td>\n",
       "      <td>2.53</td>\n",
       "      <td>1.77</td>\n",
       "      <td>80.0</td>\n",
       "      <td>7.4</td>\n",
       "      <td>E</td>\n",
       "      <td>7.4</td>\n",
       "      <td>7.4</td>\n",
       "      <td>75.0</td>\n",
       "    </tr>\n",
       "    <tr>\n",
       "      <th>4</th>\n",
       "      <td>FIFA 16</td>\n",
       "      <td>PS4</td>\n",
       "      <td>2015.0</td>\n",
       "      <td>Sports</td>\n",
       "      <td>1.12</td>\n",
       "      <td>6.12</td>\n",
       "      <td>0.06</td>\n",
       "      <td>1.28</td>\n",
       "      <td>82.0</td>\n",
       "      <td>4.3</td>\n",
       "      <td>E</td>\n",
       "      <td>4.3</td>\n",
       "      <td>7.4</td>\n",
       "      <td>75.0</td>\n",
       "    </tr>\n",
       "    <tr>\n",
       "      <th>...</th>\n",
       "      <td>...</td>\n",
       "      <td>...</td>\n",
       "      <td>...</td>\n",
       "      <td>...</td>\n",
       "      <td>...</td>\n",
       "      <td>...</td>\n",
       "      <td>...</td>\n",
       "      <td>...</td>\n",
       "      <td>...</td>\n",
       "      <td>...</td>\n",
       "      <td>...</td>\n",
       "      <td>...</td>\n",
       "      <td>...</td>\n",
       "      <td>...</td>\n",
       "    </tr>\n",
       "    <tr>\n",
       "      <th>16708</th>\n",
       "      <td>Codename: Panzers Complete Collection</td>\n",
       "      <td>PC</td>\n",
       "      <td>2016.0</td>\n",
       "      <td>Strategy</td>\n",
       "      <td>0.00</td>\n",
       "      <td>0.01</td>\n",
       "      <td>0.00</td>\n",
       "      <td>0.00</td>\n",
       "      <td>73.0</td>\n",
       "      <td>7.8</td>\n",
       "      <td>NaN</td>\n",
       "      <td>7.8</td>\n",
       "      <td>7.8</td>\n",
       "      <td>73.0</td>\n",
       "    </tr>\n",
       "    <tr>\n",
       "      <th>16709</th>\n",
       "      <td>Hospital Tycoon</td>\n",
       "      <td>PC</td>\n",
       "      <td>2007.0</td>\n",
       "      <td>Strategy</td>\n",
       "      <td>0.00</td>\n",
       "      <td>0.01</td>\n",
       "      <td>0.00</td>\n",
       "      <td>0.00</td>\n",
       "      <td>51.0</td>\n",
       "      <td>3.8</td>\n",
       "      <td>E10+</td>\n",
       "      <td>3.8</td>\n",
       "      <td>7.8</td>\n",
       "      <td>73.0</td>\n",
       "    </tr>\n",
       "    <tr>\n",
       "      <th>16710</th>\n",
       "      <td>End of Nations</td>\n",
       "      <td>PC</td>\n",
       "      <td>2012.0</td>\n",
       "      <td>Strategy</td>\n",
       "      <td>0.01</td>\n",
       "      <td>0.00</td>\n",
       "      <td>0.00</td>\n",
       "      <td>0.00</td>\n",
       "      <td>73.0</td>\n",
       "      <td>7.8</td>\n",
       "      <td>T</td>\n",
       "      <td>7.8</td>\n",
       "      <td>7.8</td>\n",
       "      <td>73.0</td>\n",
       "    </tr>\n",
       "    <tr>\n",
       "      <th>16711</th>\n",
       "      <td>Worms 2</td>\n",
       "      <td>PC</td>\n",
       "      <td>1997.0</td>\n",
       "      <td>Strategy</td>\n",
       "      <td>0.00</td>\n",
       "      <td>0.01</td>\n",
       "      <td>0.00</td>\n",
       "      <td>0.00</td>\n",
       "      <td>73.0</td>\n",
       "      <td>8.1</td>\n",
       "      <td>K-A</td>\n",
       "      <td>8.1</td>\n",
       "      <td>7.8</td>\n",
       "      <td>73.0</td>\n",
       "    </tr>\n",
       "    <tr>\n",
       "      <th>16712</th>\n",
       "      <td>STORM: Frontline Nation</td>\n",
       "      <td>PC</td>\n",
       "      <td>2011.0</td>\n",
       "      <td>Strategy</td>\n",
       "      <td>0.00</td>\n",
       "      <td>0.01</td>\n",
       "      <td>0.00</td>\n",
       "      <td>0.00</td>\n",
       "      <td>60.0</td>\n",
       "      <td>7.2</td>\n",
       "      <td>E10+</td>\n",
       "      <td>7.2</td>\n",
       "      <td>7.8</td>\n",
       "      <td>73.0</td>\n",
       "    </tr>\n",
       "  </tbody>\n",
       "</table>\n",
       "<p>16713 rows × 14 columns</p>\n",
       "</div>"
      ],
      "text/plain": [
       "                                        name platform  year_of_release  \\\n",
       "0                                 Wii Sports      Wii           2006.0   \n",
       "1                          Wii Sports Resort      Wii           2009.0   \n",
       "2                                    Wii Fit      Wii           2007.0   \n",
       "3                               Wii Fit Plus      Wii           2009.0   \n",
       "4                                    FIFA 16      PS4           2015.0   \n",
       "...                                      ...      ...              ...   \n",
       "16708  Codename: Panzers Complete Collection       PC           2016.0   \n",
       "16709                        Hospital Tycoon       PC           2007.0   \n",
       "16710                         End of Nations       PC           2012.0   \n",
       "16711                                Worms 2       PC           1997.0   \n",
       "16712                STORM: Frontline Nation       PC           2011.0   \n",
       "\n",
       "          genre  na_sales  eu_sales  jp_sales  other_sales  critic_score  \\\n",
       "0        Sports     41.36     28.96      3.77         8.45          76.0   \n",
       "1        Sports     15.61     10.93      3.28         2.95          80.0   \n",
       "2        Sports      8.92      8.03      3.60         2.15          80.0   \n",
       "3        Sports      9.01      8.49      2.53         1.77          80.0   \n",
       "4        Sports      1.12      6.12      0.06         1.28          82.0   \n",
       "...         ...       ...       ...       ...          ...           ...   \n",
       "16708  Strategy      0.00      0.01      0.00         0.00          73.0   \n",
       "16709  Strategy      0.00      0.01      0.00         0.00          51.0   \n",
       "16710  Strategy      0.01      0.00      0.00         0.00          73.0   \n",
       "16711  Strategy      0.00      0.01      0.00         0.00          73.0   \n",
       "16712  Strategy      0.00      0.01      0.00         0.00          60.0   \n",
       "\n",
       "       user_score rating  new_user_score  medians_user_score  \\\n",
       "0             8.0      E             8.0                 7.4   \n",
       "1             8.0      E             8.0                 7.4   \n",
       "2             7.7      E             7.7                 7.4   \n",
       "3             7.4      E             7.4                 7.4   \n",
       "4             4.3      E             4.3                 7.4   \n",
       "...           ...    ...             ...                 ...   \n",
       "16708         7.8    NaN             7.8                 7.8   \n",
       "16709         3.8   E10+             3.8                 7.8   \n",
       "16710         7.8      T             7.8                 7.8   \n",
       "16711         8.1    K-A             8.1                 7.8   \n",
       "16712         7.2   E10+             7.2                 7.8   \n",
       "\n",
       "       medians_critic_score  \n",
       "0                      75.0  \n",
       "1                      75.0  \n",
       "2                      75.0  \n",
       "3                      75.0  \n",
       "4                      75.0  \n",
       "...                     ...  \n",
       "16708                  73.0  \n",
       "16709                  73.0  \n",
       "16710                  73.0  \n",
       "16711                  73.0  \n",
       "16712                  73.0  \n",
       "\n",
       "[16713 rows x 14 columns]"
      ]
     },
     "execution_count": 18,
     "metadata": {},
     "output_type": "execute_result"
    }
   ],
   "source": [
    "new_data"
   ]
  },
  {
   "cell_type": "code",
   "execution_count": 19,
   "metadata": {},
   "outputs": [],
   "source": [
    "#Изменение формата даты\n",
    "\n",
    "new_data['year_of_release'] = new_data['year_of_release'].astype('int')\n"
   ]
  },
  {
   "cell_type": "code",
   "execution_count": 20,
   "metadata": {
    "scrolled": true
   },
   "outputs": [
    {
     "name": "stdout",
     "output_type": "stream",
     "text": [
      "<class 'pandas.core.frame.DataFrame'>\n",
      "Int64Index: 16713 entries, 0 to 16712\n",
      "Data columns (total 14 columns):\n",
      " #   Column                Non-Null Count  Dtype  \n",
      "---  ------                --------------  -----  \n",
      " 0   name                  16713 non-null  object \n",
      " 1   platform              16713 non-null  object \n",
      " 2   year_of_release       16713 non-null  int32  \n",
      " 3   genre                 16713 non-null  object \n",
      " 4   na_sales              16713 non-null  float64\n",
      " 5   eu_sales              16713 non-null  float64\n",
      " 6   jp_sales              16713 non-null  float64\n",
      " 7   other_sales           16713 non-null  float64\n",
      " 8   critic_score          16713 non-null  float64\n",
      " 9   user_score            16713 non-null  float64\n",
      " 10  rating                9949 non-null   object \n",
      " 11  new_user_score        16713 non-null  float64\n",
      " 12  medians_user_score    16713 non-null  float64\n",
      " 13  medians_critic_score  16713 non-null  float64\n",
      "dtypes: float64(9), int32(1), object(4)\n",
      "memory usage: 1.8+ MB\n"
     ]
    }
   ],
   "source": [
    "new_data.info()"
   ]
  },
  {
   "cell_type": "code",
   "execution_count": 21,
   "metadata": {},
   "outputs": [
    {
     "data": {
      "text/html": [
       "<div>\n",
       "<style scoped>\n",
       "    .dataframe tbody tr th:only-of-type {\n",
       "        vertical-align: middle;\n",
       "    }\n",
       "\n",
       "    .dataframe tbody tr th {\n",
       "        vertical-align: top;\n",
       "    }\n",
       "\n",
       "    .dataframe thead th {\n",
       "        text-align: right;\n",
       "    }\n",
       "</style>\n",
       "<table border=\"1\" class=\"dataframe\">\n",
       "  <thead>\n",
       "    <tr style=\"text-align: right;\">\n",
       "      <th></th>\n",
       "      <th>name</th>\n",
       "      <th>platform</th>\n",
       "      <th>year_of_release</th>\n",
       "      <th>genre</th>\n",
       "      <th>na_sales</th>\n",
       "      <th>eu_sales</th>\n",
       "      <th>jp_sales</th>\n",
       "      <th>other_sales</th>\n",
       "      <th>critic_score</th>\n",
       "      <th>user_score</th>\n",
       "      <th>rating</th>\n",
       "      <th>new_user_score</th>\n",
       "      <th>medians_user_score</th>\n",
       "      <th>medians_critic_score</th>\n",
       "      <th>sum_sales</th>\n",
       "    </tr>\n",
       "  </thead>\n",
       "  <tbody>\n",
       "    <tr>\n",
       "      <th>0</th>\n",
       "      <td>Wii Sports</td>\n",
       "      <td>Wii</td>\n",
       "      <td>2006</td>\n",
       "      <td>Sports</td>\n",
       "      <td>41.36</td>\n",
       "      <td>28.96</td>\n",
       "      <td>3.77</td>\n",
       "      <td>8.45</td>\n",
       "      <td>76.0</td>\n",
       "      <td>8.0</td>\n",
       "      <td>E</td>\n",
       "      <td>8.0</td>\n",
       "      <td>7.4</td>\n",
       "      <td>75.0</td>\n",
       "      <td>82.54</td>\n",
       "    </tr>\n",
       "    <tr>\n",
       "      <th>1</th>\n",
       "      <td>Wii Sports Resort</td>\n",
       "      <td>Wii</td>\n",
       "      <td>2009</td>\n",
       "      <td>Sports</td>\n",
       "      <td>15.61</td>\n",
       "      <td>10.93</td>\n",
       "      <td>3.28</td>\n",
       "      <td>2.95</td>\n",
       "      <td>80.0</td>\n",
       "      <td>8.0</td>\n",
       "      <td>E</td>\n",
       "      <td>8.0</td>\n",
       "      <td>7.4</td>\n",
       "      <td>75.0</td>\n",
       "      <td>32.77</td>\n",
       "    </tr>\n",
       "    <tr>\n",
       "      <th>2</th>\n",
       "      <td>Wii Fit</td>\n",
       "      <td>Wii</td>\n",
       "      <td>2007</td>\n",
       "      <td>Sports</td>\n",
       "      <td>8.92</td>\n",
       "      <td>8.03</td>\n",
       "      <td>3.60</td>\n",
       "      <td>2.15</td>\n",
       "      <td>80.0</td>\n",
       "      <td>7.7</td>\n",
       "      <td>E</td>\n",
       "      <td>7.7</td>\n",
       "      <td>7.4</td>\n",
       "      <td>75.0</td>\n",
       "      <td>22.70</td>\n",
       "    </tr>\n",
       "    <tr>\n",
       "      <th>3</th>\n",
       "      <td>Wii Fit Plus</td>\n",
       "      <td>Wii</td>\n",
       "      <td>2009</td>\n",
       "      <td>Sports</td>\n",
       "      <td>9.01</td>\n",
       "      <td>8.49</td>\n",
       "      <td>2.53</td>\n",
       "      <td>1.77</td>\n",
       "      <td>80.0</td>\n",
       "      <td>7.4</td>\n",
       "      <td>E</td>\n",
       "      <td>7.4</td>\n",
       "      <td>7.4</td>\n",
       "      <td>75.0</td>\n",
       "      <td>21.80</td>\n",
       "    </tr>\n",
       "    <tr>\n",
       "      <th>4</th>\n",
       "      <td>FIFA 16</td>\n",
       "      <td>PS4</td>\n",
       "      <td>2015</td>\n",
       "      <td>Sports</td>\n",
       "      <td>1.12</td>\n",
       "      <td>6.12</td>\n",
       "      <td>0.06</td>\n",
       "      <td>1.28</td>\n",
       "      <td>82.0</td>\n",
       "      <td>4.3</td>\n",
       "      <td>E</td>\n",
       "      <td>4.3</td>\n",
       "      <td>7.4</td>\n",
       "      <td>75.0</td>\n",
       "      <td>8.58</td>\n",
       "    </tr>\n",
       "  </tbody>\n",
       "</table>\n",
       "</div>"
      ],
      "text/plain": [
       "                name platform  year_of_release   genre  na_sales  eu_sales  \\\n",
       "0         Wii Sports      Wii             2006  Sports     41.36     28.96   \n",
       "1  Wii Sports Resort      Wii             2009  Sports     15.61     10.93   \n",
       "2            Wii Fit      Wii             2007  Sports      8.92      8.03   \n",
       "3       Wii Fit Plus      Wii             2009  Sports      9.01      8.49   \n",
       "4            FIFA 16      PS4             2015  Sports      1.12      6.12   \n",
       "\n",
       "   jp_sales  other_sales  critic_score  user_score rating  new_user_score  \\\n",
       "0      3.77         8.45          76.0         8.0      E             8.0   \n",
       "1      3.28         2.95          80.0         8.0      E             8.0   \n",
       "2      3.60         2.15          80.0         7.7      E             7.7   \n",
       "3      2.53         1.77          80.0         7.4      E             7.4   \n",
       "4      0.06         1.28          82.0         4.3      E             4.3   \n",
       "\n",
       "   medians_user_score  medians_critic_score  sum_sales  \n",
       "0                 7.4                  75.0      82.54  \n",
       "1                 7.4                  75.0      32.77  \n",
       "2                 7.4                  75.0      22.70  \n",
       "3                 7.4                  75.0      21.80  \n",
       "4                 7.4                  75.0       8.58  "
      ]
     },
     "execution_count": 21,
     "metadata": {},
     "output_type": "execute_result"
    }
   ],
   "source": [
    "#добавление столбца с суммой продаж по всем регионам\n",
    "new_data['sum_sales'] = new_data['na_sales'] + new_data['eu_sales'] + new_data['jp_sales'] + new_data['other_sales']\n",
    "new_data.head()"
   ]
  },
  {
   "cell_type": "markdown",
   "metadata": {},
   "source": [
    "## Вывод по обработке данных\n",
    "Данные годовы к дальнейней работе с ними. Типы данныз изменены на необходимые. Пропуски заполнены. Добавлены необходимые столбцы"
   ]
  },
  {
   "cell_type": "markdown",
   "metadata": {},
   "source": [
    "## <a id='3-bullet'></a> Часть 3. Исследовательский анализ\n",
    "Анализ популярных игр, платформ, определение актуального периода и популярных платформ."
   ]
  },
  {
   "cell_type": "code",
   "execution_count": 22,
   "metadata": {
    "scrolled": false
   },
   "outputs": [
    {
     "data": {
      "text/plain": [
       "Text(0, 0.5, 'Количество игр')"
      ]
     },
     "execution_count": 22,
     "metadata": {},
     "output_type": "execute_result"
    },
    {
     "data": {
      "image/png": "[encoded data removed]",
      "text/plain": [
       "<Figure size 792x360 with 1 Axes>"
      ]
     },
     "metadata": {
      "needs_background": "light"
     },
     "output_type": "display_data"
    }
   ],
   "source": [
    "new_data_count = new_data.groupby('year_of_release').agg({'name': 'count'}).plot(grid=True, kind ='bar', figsize=(11, 5))\n",
    "plt.title(\"Количество выпускаемых игр по годам\")\n",
    "plt.xlabel(\"года\")\n",
    "plt.ylabel(\"Количество игр\")\n"
   ]
  },
  {
   "cell_type": "markdown",
   "metadata": {},
   "source": [
    "С 1980 по 1993 выпускалось очень мало игр. Пик выпусков был в 2007, затем следует спад и небольшой подъем в 2015. На 2016 год может нет всех данных, поэтому нельзя делать вывод, какая тенденция. Поскольку наша задача дать прогноз, то следует учитывать только новые игры, поскольку данные по старым уже не так актуальны. Начинать можно с 2007г, когда было больше всего выпусков игр "
   ]
  },
  {
   "cell_type": "code",
   "execution_count": 23,
   "metadata": {},
   "outputs": [
    {
     "data": {
      "text/plain": [
       "Text(0, 0.5, 'Платформы')"
      ]
     },
     "execution_count": 23,
     "metadata": {},
     "output_type": "execute_result"
    },
    {
     "data": {
      "image/png": "[encoded data removed]",
      "text/plain": [
       "<Figure size 792x360 with 1 Axes>"
      ]
     },
     "metadata": {
      "needs_background": "light"
     },
     "output_type": "display_data"
    }
   ],
   "source": [
    "platforms = new_data.query('sum_sales > 10')['platform'].unique()\n",
    "all_games = []\n",
    "\n",
    "for platform in platforms:\n",
    "    all_games.append(new_data.groupby('platform').get_group(platform).groupby('year_of_release').agg({'name': 'count'}).rename(\n",
    "        columns={'name':platform}))\n",
    "\n",
    "ax = all_games[0].plot(grid=True, figsize=(11, 5))\n",
    "\n",
    "for game in all_games[1:]:\n",
    "    game.plot(ax=ax,grid=True, figsize=(11, 5))\n",
    "plt.title(\"Продажи платформ по годам\")\n",
    "plt.xlabel(\"года\")\n",
    "plt.ylabel(\"Платформы\")"
   ]
  },
  {
   "cell_type": "markdown",
   "metadata": {},
   "source": [
    "На графике видно, что средний срок жини платформы от 5 до 10 лет. Так что следует считать актуальный период с 2014 года, с периода, когда появились две самые перспективные платформы. "
   ]
  },
  {
   "cell_type": "code",
   "execution_count": 24,
   "metadata": {},
   "outputs": [],
   "source": [
    "new_data2017 = new_data.query('year_of_release >= 2014')"
   ]
  },
  {
   "cell_type": "code",
   "execution_count": 25,
   "metadata": {},
   "outputs": [
    {
     "data": {
      "text/plain": [
       "Text(0, 0.5, 'Платформы')"
      ]
     },
     "execution_count": 25,
     "metadata": {},
     "output_type": "execute_result"
    },
    {
     "data": {
      "image/png": "[encoded data removed]",
      "text/plain": [
       "<Figure size 792x360 with 1 Axes>"
      ]
     },
     "metadata": {
      "needs_background": "light"
     },
     "output_type": "display_data"
    }
   ],
   "source": [
    "platforms = new_data2017.query('sum_sales > 5')['platform'].unique()\n",
    "all_games = []\n",
    "for platform in platforms:\n",
    "    all_games.append(new_data2017.groupby('platform').get_group(platform).groupby('year_of_release').agg({'name': 'count'}).rename(\n",
    "        columns={'name':platform}))\n",
    "\n",
    "ax = all_games[0].plot(grid=True, figsize=(11, 5))\n",
    "\n",
    "for game in all_games[1:]:\n",
    "    game.plot(ax=ax,grid=True, figsize=(11, 5))\n",
    "plt.title(\"Продажи платформ по годам\")\n",
    "plt.xlabel(\"года\")\n",
    "plt.ylabel(\"Платформы\")"
   ]
  },
  {
   "cell_type": "code",
   "execution_count": 26,
   "metadata": {
    "scrolled": false
   },
   "outputs": [
    {
     "data": {
      "text/plain": [
       "Text(0.5, 1.0, 'Сумма продаж по платформам')"
      ]
     },
     "execution_count": 26,
     "metadata": {},
     "output_type": "execute_result"
    },
    {
     "data": {
      "image/png": "[encoded data removed]",
      "text/plain": [
       "<Figure size 792x360 with 1 Axes>"
      ]
     },
     "metadata": {
      "needs_background": "light"
     },
     "output_type": "display_data"
    }
   ],
   "source": [
    "new_data2017.pivot_table(index = 'platform', values = 'sum_sales').sort_values(by='sum_sales').plot(grid=True, kind= 'bar', figsize=(11, 5))\n",
    "plt.xlabel(\"Платформы\")\n",
    "plt.ylabel(\"Продажи\")\n",
    "plt.title(\"Сумма продаж по платформам\")\n"
   ]
  },
  {
   "cell_type": "markdown",
   "metadata": {},
   "source": [
    "Из тех, кто выжил до 2016г. самые популярные платформы PS(3-4), X360, 3DS, Wii, XOne, WiiU. Из всех платформ на взлете только Плейстешн 4 и XOne. Остальные платформы на спаде.\n"
   ]
  },
  {
   "cell_type": "code",
   "execution_count": 27,
   "metadata": {
    "scrolled": true
   },
   "outputs": [
    {
     "data": {
      "image/png": "[encoded data removed]",
      "text/plain": [
       "<Figure size 648x216 with 1 Axes>"
      ]
     },
     "metadata": {
      "needs_background": "light"
     },
     "output_type": "display_data"
    },
    {
     "data": {
      "image/png": "[encoded data removed]",
      "text/plain": [
       "<Figure size 648x216 with 1 Axes>"
      ]
     },
     "metadata": {
      "needs_background": "light"
     },
     "output_type": "display_data"
    },
    {
     "data": {
      "image/png": "[encoded data removed]",
      "text/plain": [
       "<Figure size 648x216 with 1 Axes>"
      ]
     },
     "metadata": {
      "needs_background": "light"
     },
     "output_type": "display_data"
    },
    {
     "data": {
      "image/png": "[encoded data removed]",
      "text/plain": [
       "<Figure size 648x216 with 1 Axes>"
      ]
     },
     "metadata": {
      "needs_background": "light"
     },
     "output_type": "display_data"
    },
    {
     "data": {
      "image/png": "[encoded data removed]",
      "text/plain": [
       "<Figure size 648x216 with 1 Axes>"
      ]
     },
     "metadata": {
      "needs_background": "light"
     },
     "output_type": "display_data"
    },
    {
     "data": {
      "image/png": "[encoded data removed]",
      "text/plain": [
       "<Figure size 648x216 with 1 Axes>"
      ]
     },
     "metadata": {
      "needs_background": "light"
     },
     "output_type": "display_data"
    },
    {
     "data": {
      "image/png": "[encoded data removed]",
      "text/plain": [
       "<Figure size 648x216 with 1 Axes>"
      ]
     },
     "metadata": {
      "needs_background": "light"
     },
     "output_type": "display_data"
    },
    {
     "data": {
      "image/png": "[encoded data removed]",
      "text/plain": [
       "<Figure size 648x216 with 1 Axes>"
      ]
     },
     "metadata": {
      "needs_background": "light"
     },
     "output_type": "display_data"
    }
   ],
   "source": [
    "new_data.query('platform == \"3DS\"').groupby('year_of_release').agg({'sum_sales': 'sum'}).plot(grid=True, kind='bar', figsize=(9, 3))\n",
    "plt.title(\"3DS\")\n",
    "new_data.query('platform == \"PS\"').groupby('year_of_release').agg({'sum_sales': 'sum'}).plot(grid=True, kind='bar', figsize=(9, 3))\n",
    "plt.title(\"PS\")\n",
    "new_data.query('platform == \"PS4\"').groupby('year_of_release').agg({'sum_sales': 'sum'}).plot(grid=True, kind='bar', figsize=(9, 3))\n",
    "plt.title(\"PS4\")\n",
    "new_data.query('platform == \"X360\"').groupby('year_of_release').agg({'sum_sales': 'sum'}).plot(grid=True, kind= 'bar', figsize=(9, 3))\n",
    "plt.title(\"X360\")\n",
    "new_data.query('platform == \"PS3\"').groupby('year_of_release').agg({'sum_sales': 'sum'}).plot(grid=True, kind= 'bar', figsize=(9, 3))\n",
    "plt.title(\"PS3\")\n",
    "new_data.query('platform == \"Wii\"').groupby('year_of_release').agg({'sum_sales': 'sum'}).plot(grid=True, kind= 'bar', figsize=(9, 3))\n",
    "plt.title(\"Wii\")\n",
    "new_data.query('platform == \"XOne\"').groupby('year_of_release').agg({'sum_sales': 'sum'}).plot(grid=True, kind= 'bar', figsize=(9, 3))\n",
    "plt.title(\"XOne\")\n",
    "new_data.query('platform == \"WiiU\"').groupby('year_of_release').agg({'sum_sales': 'sum'}).plot(grid=True, kind= 'bar', figsize=(9, 3))\n",
    "plt.title(\"WiiU\")\n",
    "plt.show()"
   ]
  },
  {
   "cell_type": "markdown",
   "metadata": {},
   "source": [
    "### Вывод\n",
    "Похоже, что платформы в среднем живут от 5 до 10 лет, идет сначала подъем и постепенное умирание. Чем дальше, тем быстрее меняются платформы. У PS3 был пик популярности в 2011, а в 2013 появляется PS4 и к 2015г. вытесняет PS3. Самые перспективные это PS4(на взлете), PS, XOne, 3DS, X360, WiiU. Последниде две уже прошла пик популярности и идет на спад. Данные за 2016г. неполные, поэтому сложно сказать, какая сейчас ситуация с продажами.\n",
    "Актуальным для прогноза на 2017г. периодом можно считать 5 лет."
   ]
  },
  {
   "cell_type": "markdown",
   "metadata": {},
   "source": [
    "#### График «ящик с усами» по глобальным продажам игр в разбивке по платформам. "
   ]
  },
  {
   "cell_type": "code",
   "execution_count": 28,
   "metadata": {
    "scrolled": true
   },
   "outputs": [
    {
     "data": {
      "image/png": "[encoded data removed]",
      "text/plain": [
       "<Figure size 792x360 with 1 Axes>"
      ]
     },
     "metadata": {
      "needs_background": "light"
     },
     "output_type": "display_data"
    }
   ],
   "source": [
    "new_data2017.boxplot('sum_sales', 'platform', figsize=(11, 5));\n"
   ]
  },
  {
   "cell_type": "markdown",
   "metadata": {},
   "source": [
    "Самое большое среднее у PS3-4, X360, XOne. Похоже, это самые популярные в мире платформы, в данных есть длинный хвост в районе 2,5, после 5 значения совсем редкие, при анализе надо будет отбросить. "
   ]
  },
  {
   "cell_type": "code",
   "execution_count": 29,
   "metadata": {},
   "outputs": [
    {
     "data": {
      "text/plain": [
       "5.6000000000000005"
      ]
     },
     "execution_count": 29,
     "metadata": {},
     "output_type": "execute_result"
    }
   ],
   "source": [
    "# Для интереса, показать, что я так тоже умею\n",
    "new_data2017.query('platform == \"PS4\"')['sum_sales'].describe()\n",
    "#Можно было бы еще точнее посчитать правилу трех сигм, где лежит большинство данных для PS4\n",
    "3 * 1.6 + 0.8"
   ]
  },
  {
   "cell_type": "markdown",
   "metadata": {},
   "source": [
    "#### Влияние на продажи внутри одной популярной платформы отзывы пользователей и критиков"
   ]
  },
  {
   "cell_type": "code",
   "execution_count": 30,
   "metadata": {},
   "outputs": [
    {
     "name": "stdout",
     "output_type": "stream",
     "text": [
      "Корреляция продаж PS4 и отзывов по коэффициенту Пирсона: -0.04864388217347433\n",
      "Корреляция продаж PS4  и отзывов по коэффициенту Пирсона без учета tbd: -0.05149697000546347\n",
      "Корреляция продаж PS4 и отзывов критиков по коэффициенту Пирсона: 0.30093215264045853\n"
     ]
    }
   ],
   "source": [
    "print('Корреляция продаж PS4 и отзывов по коэффициенту Пирсона:', \n",
    "      new_data2017.query('platform == \"PS4\" and sum_sales < 2.5')['new_user_score'].corr(new_data2017['sum_sales']))\n",
    "print('Корреляция продаж PS4  и отзывов по коэффициенту Пирсона без учета tbd:',\n",
    "      new_data2017.query('platform == \"PS4\" and sum_sales < 2.5')['user_score'].corr(new_data2017['sum_sales']))\n",
    "print('Корреляция продаж PS4 и отзывов критиков по коэффициенту Пирсона:', \n",
    "      new_data2017.query('platform == \"PS4\" and sum_sales < 2.5')['critic_score'].corr(new_data2017['sum_sales']))"
   ]
  },
  {
   "cell_type": "code",
   "execution_count": 31,
   "metadata": {},
   "outputs": [
    {
     "data": {
      "image/png": "[encoded data removed]",
      "text/plain": [
       "<Figure size 504x504 with 9 Axes>"
      ]
     },
     "metadata": {
      "needs_background": "light"
     },
     "output_type": "display_data"
    }
   ],
   "source": [
    "matrix_data = new_data2017.query('platform == \"PS4\" and sum_sales < 2.5')[['sum_sales','critic_score','new_user_score']]\n",
    "pd.plotting.scatter_matrix(matrix_data, figsize=(7, 7));"
   ]
  },
  {
   "cell_type": "code",
   "execution_count": 32,
   "metadata": {},
   "outputs": [
    {
     "name": "stdout",
     "output_type": "stream",
     "text": [
      "Корреляция продаж остальных платформ и отзывов по коэффициенту Пирсона: -0.11069524500083272\n",
      "Корреляция продаж остальных платформ и отзывов по коэффициенту Пирсона без учета tbd: -0.11941124367655874\n",
      "Корреляция продаж остальных платформ и отзывов критиков по коэффициенту Пирсона: 0.2988375393922884\n"
     ]
    }
   ],
   "source": [
    "print('Корреляция продаж остальных платформ и отзывов по коэффициенту Пирсона:', \n",
    "      new_data2017.query('platform != \"PS4\" and sum_sales <= 2.5')['new_user_score'].corr(new_data2017['sum_sales']))\n",
    "print('Корреляция продаж остальных платформ и отзывов по коэффициенту Пирсона без учета tbd:',\n",
    "      new_data2017.query('platform != \"PS4\" and sum_sales <= 2.5')['user_score'].corr(new_data2017['sum_sales']))\n",
    "print('Корреляция продаж остальных платформ и отзывов критиков по коэффициенту Пирсона:', \n",
    "      new_data2017.query('platform != \"PS4\" and sum_sales <= 2.5')['critic_score'].corr(new_data2017['sum_sales']))"
   ]
  },
  {
   "cell_type": "markdown",
   "metadata": {},
   "source": [
    "#### Вывод\n",
    "По одной из самых популярных платформ больше всего связь между отзывами критиков и продажами, в меньшей степени связь между отзывами пользователей и продажами. Для остальных платформ корреляция между отзывами критиков и продажами чуууть меньше, чем для самой популярной платформы, можно сказать, что разница не существена.  \n",
    "\n",
    "А вот на других платформах корреляция между продажами и отзывами пользователей заметно больше, чем в случае с самой популярной платформой. Влияние критиков на продажи точно такое же. "
   ]
  },
  {
   "cell_type": "markdown",
   "metadata": {},
   "source": [
    "#### Общее распределение игр по жанрам. \n"
   ]
  },
  {
   "cell_type": "code",
   "execution_count": 33,
   "metadata": {},
   "outputs": [
    {
     "data": {
      "text/html": [
       "<div>\n",
       "<style scoped>\n",
       "    .dataframe tbody tr th:only-of-type {\n",
       "        vertical-align: middle;\n",
       "    }\n",
       "\n",
       "    .dataframe tbody tr th {\n",
       "        vertical-align: top;\n",
       "    }\n",
       "\n",
       "    .dataframe thead th {\n",
       "        text-align: right;\n",
       "    }\n",
       "</style>\n",
       "<table border=\"1\" class=\"dataframe\">\n",
       "  <thead>\n",
       "    <tr style=\"text-align: right;\">\n",
       "      <th></th>\n",
       "      <th>sum_sales</th>\n",
       "    </tr>\n",
       "    <tr>\n",
       "      <th>genre</th>\n",
       "      <th></th>\n",
       "    </tr>\n",
       "  </thead>\n",
       "  <tbody>\n",
       "    <tr>\n",
       "      <th>Action</th>\n",
       "      <td>199.36</td>\n",
       "    </tr>\n",
       "    <tr>\n",
       "      <th>Shooter</th>\n",
       "      <td>170.94</td>\n",
       "    </tr>\n",
       "    <tr>\n",
       "      <th>Sports</th>\n",
       "      <td>109.48</td>\n",
       "    </tr>\n",
       "    <tr>\n",
       "      <th>Role-Playing</th>\n",
       "      <td>101.44</td>\n",
       "    </tr>\n",
       "    <tr>\n",
       "      <th>Misc</th>\n",
       "      <td>37.55</td>\n",
       "    </tr>\n",
       "    <tr>\n",
       "      <th>Fighting</th>\n",
       "      <td>28.22</td>\n",
       "    </tr>\n",
       "    <tr>\n",
       "      <th>Racing</th>\n",
       "      <td>27.52</td>\n",
       "    </tr>\n",
       "    <tr>\n",
       "      <th>Platform</th>\n",
       "      <td>18.09</td>\n",
       "    </tr>\n",
       "    <tr>\n",
       "      <th>Adventure</th>\n",
       "      <td>17.55</td>\n",
       "    </tr>\n",
       "    <tr>\n",
       "      <th>Simulation</th>\n",
       "      <td>13.13</td>\n",
       "    </tr>\n",
       "    <tr>\n",
       "      <th>Strategy</th>\n",
       "      <td>3.96</td>\n",
       "    </tr>\n",
       "    <tr>\n",
       "      <th>Puzzle</th>\n",
       "      <td>2.21</td>\n",
       "    </tr>\n",
       "  </tbody>\n",
       "</table>\n",
       "</div>"
      ],
      "text/plain": [
       "              sum_sales\n",
       "genre                  \n",
       "Action           199.36\n",
       "Shooter          170.94\n",
       "Sports           109.48\n",
       "Role-Playing     101.44\n",
       "Misc              37.55\n",
       "Fighting          28.22\n",
       "Racing            27.52\n",
       "Platform          18.09\n",
       "Adventure         17.55\n",
       "Simulation        13.13\n",
       "Strategy           3.96\n",
       "Puzzle             2.21"
      ]
     },
     "execution_count": 33,
     "metadata": {},
     "output_type": "execute_result"
    }
   ],
   "source": [
    "new_data2017.groupby(['genre']).agg({'sum_sales':'sum'}).sort_values(by = 'sum_sales', ascending=False)"
   ]
  },
  {
   "cell_type": "markdown",
   "metadata": {},
   "source": [
    "#### Вывод\n",
    "Самый прибыльные жанры Action и Shooter, с большим отрывом от них идут  Role-Playing и Sports. На жанр Puzzle лучше вообще не рассчитывать "
   ]
  },
  {
   "cell_type": "markdown",
   "metadata": {},
   "source": [
    "##  Портрет пользователя каждого региона"
   ]
  },
  {
   "cell_type": "markdown",
   "metadata": {},
   "source": [
    "### Самые популярные платформы (топ-5)"
   ]
  },
  {
   "cell_type": "code",
   "execution_count": 34,
   "metadata": {},
   "outputs": [
    {
     "data": {
      "text/html": [
       "<div>\n",
       "<style scoped>\n",
       "    .dataframe tbody tr th:only-of-type {\n",
       "        vertical-align: middle;\n",
       "    }\n",
       "\n",
       "    .dataframe tbody tr th {\n",
       "        vertical-align: top;\n",
       "    }\n",
       "\n",
       "    .dataframe thead th {\n",
       "        text-align: right;\n",
       "    }\n",
       "</style>\n",
       "<table border=\"1\" class=\"dataframe\">\n",
       "  <thead>\n",
       "    <tr style=\"text-align: right;\">\n",
       "      <th></th>\n",
       "      <th>name</th>\n",
       "      <th>platform</th>\n",
       "      <th>year_of_release</th>\n",
       "      <th>genre</th>\n",
       "      <th>na_sales</th>\n",
       "      <th>eu_sales</th>\n",
       "      <th>jp_sales</th>\n",
       "      <th>other_sales</th>\n",
       "      <th>critic_score</th>\n",
       "      <th>user_score</th>\n",
       "      <th>rating</th>\n",
       "      <th>new_user_score</th>\n",
       "      <th>medians_user_score</th>\n",
       "      <th>medians_critic_score</th>\n",
       "      <th>sum_sales</th>\n",
       "    </tr>\n",
       "  </thead>\n",
       "  <tbody>\n",
       "    <tr>\n",
       "      <th>4</th>\n",
       "      <td>FIFA 16</td>\n",
       "      <td>PS4</td>\n",
       "      <td>2015</td>\n",
       "      <td>Sports</td>\n",
       "      <td>1.12</td>\n",
       "      <td>6.12</td>\n",
       "      <td>0.06</td>\n",
       "      <td>1.28</td>\n",
       "      <td>82.0</td>\n",
       "      <td>4.3</td>\n",
       "      <td>E</td>\n",
       "      <td>4.3</td>\n",
       "      <td>7.4</td>\n",
       "      <td>75.0</td>\n",
       "      <td>8.58</td>\n",
       "    </tr>\n",
       "    <tr>\n",
       "      <th>6</th>\n",
       "      <td>FIFA 17</td>\n",
       "      <td>PS4</td>\n",
       "      <td>2016</td>\n",
       "      <td>Sports</td>\n",
       "      <td>0.66</td>\n",
       "      <td>5.75</td>\n",
       "      <td>0.08</td>\n",
       "      <td>1.11</td>\n",
       "      <td>85.0</td>\n",
       "      <td>5.0</td>\n",
       "      <td>E</td>\n",
       "      <td>5.0</td>\n",
       "      <td>7.4</td>\n",
       "      <td>75.0</td>\n",
       "      <td>7.60</td>\n",
       "    </tr>\n",
       "    <tr>\n",
       "      <th>11</th>\n",
       "      <td>FIFA 15</td>\n",
       "      <td>PS4</td>\n",
       "      <td>2014</td>\n",
       "      <td>Sports</td>\n",
       "      <td>0.80</td>\n",
       "      <td>4.33</td>\n",
       "      <td>0.05</td>\n",
       "      <td>0.90</td>\n",
       "      <td>82.0</td>\n",
       "      <td>5.7</td>\n",
       "      <td>E</td>\n",
       "      <td>5.7</td>\n",
       "      <td>7.4</td>\n",
       "      <td>75.0</td>\n",
       "      <td>6.08</td>\n",
       "    </tr>\n",
       "    <tr>\n",
       "      <th>23</th>\n",
       "      <td>FIFA 15</td>\n",
       "      <td>PS3</td>\n",
       "      <td>2014</td>\n",
       "      <td>Sports</td>\n",
       "      <td>0.58</td>\n",
       "      <td>3.02</td>\n",
       "      <td>0.04</td>\n",
       "      <td>0.64</td>\n",
       "      <td>75.0</td>\n",
       "      <td>4.5</td>\n",
       "      <td>E</td>\n",
       "      <td>4.5</td>\n",
       "      <td>7.4</td>\n",
       "      <td>75.0</td>\n",
       "      <td>4.28</td>\n",
       "    </tr>\n",
       "    <tr>\n",
       "      <th>33</th>\n",
       "      <td>NBA 2K16</td>\n",
       "      <td>PS4</td>\n",
       "      <td>2015</td>\n",
       "      <td>Sports</td>\n",
       "      <td>2.49</td>\n",
       "      <td>0.66</td>\n",
       "      <td>0.03</td>\n",
       "      <td>0.69</td>\n",
       "      <td>87.0</td>\n",
       "      <td>6.7</td>\n",
       "      <td>E10+</td>\n",
       "      <td>6.7</td>\n",
       "      <td>7.4</td>\n",
       "      <td>75.0</td>\n",
       "      <td>3.87</td>\n",
       "    </tr>\n",
       "  </tbody>\n",
       "</table>\n",
       "</div>"
      ],
      "text/plain": [
       "        name platform  year_of_release   genre  na_sales  eu_sales  jp_sales  \\\n",
       "4    FIFA 16      PS4             2015  Sports      1.12      6.12      0.06   \n",
       "6    FIFA 17      PS4             2016  Sports      0.66      5.75      0.08   \n",
       "11   FIFA 15      PS4             2014  Sports      0.80      4.33      0.05   \n",
       "23   FIFA 15      PS3             2014  Sports      0.58      3.02      0.04   \n",
       "33  NBA 2K16      PS4             2015  Sports      2.49      0.66      0.03   \n",
       "\n",
       "    other_sales  critic_score  user_score rating  new_user_score  \\\n",
       "4          1.28          82.0         4.3      E             4.3   \n",
       "6          1.11          85.0         5.0      E             5.0   \n",
       "11         0.90          82.0         5.7      E             5.7   \n",
       "23         0.64          75.0         4.5      E             4.5   \n",
       "33         0.69          87.0         6.7   E10+             6.7   \n",
       "\n",
       "    medians_user_score  medians_critic_score  sum_sales  \n",
       "4                  7.4                  75.0       8.58  \n",
       "6                  7.4                  75.0       7.60  \n",
       "11                 7.4                  75.0       6.08  \n",
       "23                 7.4                  75.0       4.28  \n",
       "33                 7.4                  75.0       3.87  "
      ]
     },
     "execution_count": 34,
     "metadata": {},
     "output_type": "execute_result"
    }
   ],
   "source": [
    "new_data2017.head()"
   ]
  },
  {
   "cell_type": "code",
   "execution_count": 35,
   "metadata": {},
   "outputs": [],
   "source": [
    "top5_platform = new_data2017.groupby('platform').agg({'eu_sales': 'sum', 'jp_sales': 'sum', 'na_sales': 'sum', 'other_sales': 'sum'})"
   ]
  },
  {
   "cell_type": "code",
   "execution_count": 36,
   "metadata": {},
   "outputs": [
    {
     "name": "stdout",
     "output_type": "stream",
     "text": [
      "Топ 5 доля высокий продаж в Японии по платформам platform\n",
      "3DS     0.475239\n",
      "PS4     0.161349\n",
      "PSV     0.156193\n",
      "PS3     0.120529\n",
      "WiiU    0.078526\n",
      "Name: jp_sales, dtype: float64\n",
      "Топ 5 доля высокий продаж в Европе по платформам platform\n",
      "PS4     0.480420\n",
      "XOne    0.170866\n",
      "PS3     0.094355\n",
      "PC      0.066388\n",
      "3DS     0.059554\n",
      "Name: eu_sales, dtype: float64\n",
      "Топ 5 доля высокий продаж в Америке по платформам platform\n",
      "PS4     0.347145\n",
      "XOne    0.286102\n",
      "X360    0.099627\n",
      "3DS     0.079701\n",
      "PS3     0.077624\n",
      "Name: na_sales, dtype: float64\n",
      "Топ 5 доля высокий продаж в других странах по платформам platform\n",
      "PS4     0.544964\n",
      "XOne    0.153394\n",
      "PS3     0.114800\n",
      "X360    0.053296\n",
      "3DS     0.045087\n",
      "Name: other_sales, dtype: float64\n"
     ]
    }
   ],
   "source": [
    "jp_part_sales = (top5_platform['jp_sales'] / top5_platform['jp_sales'].sum()).sort_values(ascending=False).head()\n",
    "eu_part_sales = (top5_platform['eu_sales'] / top5_platform['eu_sales'].sum()).sort_values(ascending=False).head()\n",
    "na_part_sales = (top5_platform['na_sales'] / top5_platform['na_sales'].sum()).sort_values(ascending=False).head()\n",
    "other_part_sales = (top5_platform['other_sales'] / top5_platform['other_sales'].sum()).sort_values(ascending=False).head()\n",
    "print('Топ 5 доля высокий продаж в Японии по платформам', jp_part_sales);\n",
    "print('Топ 5 доля высокий продаж в Европе по платформам', eu_part_sales)\n",
    "print('Топ 5 доля высокий продаж в Америке по платформам', na_part_sales);\n",
    "print('Топ 5 доля высокий продаж в других странах по платформам',other_part_sales);"
   ]
  },
  {
   "cell_type": "code",
   "execution_count": 37,
   "metadata": {},
   "outputs": [
    {
     "data": {
      "text/plain": [
       "Text(0.5, 1.0, 'Доля в Японии')"
      ]
     },
     "execution_count": 37,
     "metadata": {},
     "output_type": "execute_result"
    },
    {
     "data": {
      "image/png": "[encoded data removed]",
      "text/plain": [
       "<Figure size 432x288 with 1 Axes>"
      ]
     },
     "metadata": {},
     "output_type": "display_data"
    }
   ],
   "source": [
    "jp_part_sales.plot(kind='pie', autopct='%1.1f%%');\n",
    "plt.title(\"Доля в Японии\")"
   ]
  },
  {
   "cell_type": "code",
   "execution_count": 38,
   "metadata": {},
   "outputs": [
    {
     "data": {
      "text/plain": [
       "Text(0.5, 1.0, 'Доля в Европе')"
      ]
     },
     "execution_count": 38,
     "metadata": {},
     "output_type": "execute_result"
    },
    {
     "data": {
      "image/png": "[encoded data removed]",
      "text/plain": [
       "<Figure size 432x288 with 1 Axes>"
      ]
     },
     "metadata": {},
     "output_type": "display_data"
    }
   ],
   "source": [
    "eu_part_sales.plot(kind='pie', autopct='%1.1f%%');\n",
    "plt.title(\"Доля в Европе\")"
   ]
  },
  {
   "cell_type": "code",
   "execution_count": 39,
   "metadata": {},
   "outputs": [
    {
     "data": {
      "text/plain": [
       "Text(0.5, 1.0, 'Доля в Америке')"
      ]
     },
     "execution_count": 39,
     "metadata": {},
     "output_type": "execute_result"
    },
    {
     "data": {
      "image/png": "[encoded data removed]",
      "text/plain": [
       "<Figure size 432x288 with 1 Axes>"
      ]
     },
     "metadata": {},
     "output_type": "display_data"
    }
   ],
   "source": [
    "na_part_sales.plot(kind='pie', autopct='%1.1f%%');\n",
    "plt.title(\"Доля в Америке\")"
   ]
  },
  {
   "cell_type": "code",
   "execution_count": 40,
   "metadata": {},
   "outputs": [
    {
     "data": {
      "text/plain": [
       "Text(0.5, 1.0, 'Доля в других странах')"
      ]
     },
     "execution_count": 40,
     "metadata": {},
     "output_type": "execute_result"
    },
    {
     "data": {
      "image/png": "[encoded data removed]",
      "text/plain": [
       "<Figure size 432x288 with 1 Axes>"
      ]
     },
     "metadata": {},
     "output_type": "display_data"
    }
   ],
   "source": [
    "other_part_sales.plot(kind='pie', autopct='%1.1f%%')\n",
    "plt.title(\"Доля в других странах\")"
   ]
  },
  {
   "cell_type": "markdown",
   "metadata": {},
   "source": [
    "#### Вывод по топу\n",
    "* Самые популярные в Европе платформы  это PS3 (доля от общих продаж в Европе 0.2), PS4 (доля 0.2), X360 (доля 0.17), 3DS (доля   0.09), PS4   (доля 0.06) \n",
    "* Для Японии самые популярные платформы 3DS  (доля от общих продаж в Японии  0.4), PS3 (доля 0.2),  с большим отрывом PSP (доля 0.09), PSV (доля 0.08) и PS4 (доля  0.06)\n",
    "* В Америке самые популярные платформы X360 (доля 0.27), PS3 (доля 0.2),  PS4 (доля 0.13), XOne (доля 0.11), 3DS (доля 0.09) \n",
    "* Самые популярные платформы в других странах PS3 (доля 0.3), PS4 (доля 0.2), X360 (доля 0.15), XOne (доля 0.06), 3DS (0.06)\n",
    "Похоже, что в разные областях популярны разные платформы, больше всего отличается Япония, которая предпочтает две основные платформы, а остальные пользуются гораздо меньшим спросом. Рынок у разных регионов тоже отличается,  так что для прогноза нужно учитывать, что в Японии не самые большие продажи в принципе"
   ]
  },
  {
   "cell_type": "markdown",
   "metadata": {},
   "source": [
    "### Самые популярные жанры (топ-5)"
   ]
  },
  {
   "cell_type": "code",
   "execution_count": 41,
   "metadata": {},
   "outputs": [
    {
     "data": {
      "text/html": [
       "<div>\n",
       "<style scoped>\n",
       "    .dataframe tbody tr th:only-of-type {\n",
       "        vertical-align: middle;\n",
       "    }\n",
       "\n",
       "    .dataframe tbody tr th {\n",
       "        vertical-align: top;\n",
       "    }\n",
       "\n",
       "    .dataframe thead th {\n",
       "        text-align: right;\n",
       "    }\n",
       "</style>\n",
       "<table border=\"1\" class=\"dataframe\">\n",
       "  <thead>\n",
       "    <tr style=\"text-align: right;\">\n",
       "      <th></th>\n",
       "      <th>eu_sales</th>\n",
       "      <th>jp_sales</th>\n",
       "      <th>na_sales</th>\n",
       "      <th>other_sales</th>\n",
       "    </tr>\n",
       "    <tr>\n",
       "      <th>genre</th>\n",
       "      <th></th>\n",
       "      <th></th>\n",
       "      <th></th>\n",
       "      <th></th>\n",
       "    </tr>\n",
       "  </thead>\n",
       "  <tbody>\n",
       "    <tr>\n",
       "      <th>Action</th>\n",
       "      <td>74.68</td>\n",
       "      <td>29.58</td>\n",
       "      <td>72.53</td>\n",
       "      <td>22.57</td>\n",
       "    </tr>\n",
       "    <tr>\n",
       "      <th>Shooter</th>\n",
       "      <td>65.52</td>\n",
       "      <td>4.87</td>\n",
       "      <td>79.02</td>\n",
       "      <td>21.53</td>\n",
       "    </tr>\n",
       "    <tr>\n",
       "      <th>Sports</th>\n",
       "      <td>45.73</td>\n",
       "      <td>3.26</td>\n",
       "      <td>46.13</td>\n",
       "      <td>14.36</td>\n",
       "    </tr>\n",
       "    <tr>\n",
       "      <th>Role-Playing</th>\n",
       "      <td>28.17</td>\n",
       "      <td>31.16</td>\n",
       "      <td>33.47</td>\n",
       "      <td>8.64</td>\n",
       "    </tr>\n",
       "    <tr>\n",
       "      <th>Racing</th>\n",
       "      <td>14.13</td>\n",
       "      <td>1.76</td>\n",
       "      <td>8.74</td>\n",
       "      <td>2.89</td>\n",
       "    </tr>\n",
       "  </tbody>\n",
       "</table>\n",
       "</div>"
      ],
      "text/plain": [
       "              eu_sales  jp_sales  na_sales  other_sales\n",
       "genre                                                  \n",
       "Action           74.68     29.58     72.53        22.57\n",
       "Shooter          65.52      4.87     79.02        21.53\n",
       "Sports           45.73      3.26     46.13        14.36\n",
       "Role-Playing     28.17     31.16     33.47         8.64\n",
       "Racing           14.13      1.76      8.74         2.89"
      ]
     },
     "execution_count": 41,
     "metadata": {},
     "output_type": "execute_result"
    }
   ],
   "source": [
    "top5_genre= new_data2017.groupby('genre').agg({'eu_sales': 'sum', 'jp_sales': 'sum', 'na_sales': 'sum', 'other_sales': 'sum'})\n",
    "top5_genre.sort_values(by='eu_sales', ascending = False).head()"
   ]
  },
  {
   "cell_type": "code",
   "execution_count": 42,
   "metadata": {},
   "outputs": [
    {
     "data": {
      "text/html": [
       "<div>\n",
       "<style scoped>\n",
       "    .dataframe tbody tr th:only-of-type {\n",
       "        vertical-align: middle;\n",
       "    }\n",
       "\n",
       "    .dataframe tbody tr th {\n",
       "        vertical-align: top;\n",
       "    }\n",
       "\n",
       "    .dataframe thead th {\n",
       "        text-align: right;\n",
       "    }\n",
       "</style>\n",
       "<table border=\"1\" class=\"dataframe\">\n",
       "  <thead>\n",
       "    <tr style=\"text-align: right;\">\n",
       "      <th></th>\n",
       "      <th>eu_sales</th>\n",
       "      <th>jp_sales</th>\n",
       "      <th>na_sales</th>\n",
       "      <th>other_sales</th>\n",
       "    </tr>\n",
       "    <tr>\n",
       "      <th>genre</th>\n",
       "      <th></th>\n",
       "      <th></th>\n",
       "      <th></th>\n",
       "      <th></th>\n",
       "    </tr>\n",
       "  </thead>\n",
       "  <tbody>\n",
       "    <tr>\n",
       "      <th>Role-Playing</th>\n",
       "      <td>28.17</td>\n",
       "      <td>31.16</td>\n",
       "      <td>33.47</td>\n",
       "      <td>8.64</td>\n",
       "    </tr>\n",
       "    <tr>\n",
       "      <th>Action</th>\n",
       "      <td>74.68</td>\n",
       "      <td>29.58</td>\n",
       "      <td>72.53</td>\n",
       "      <td>22.57</td>\n",
       "    </tr>\n",
       "    <tr>\n",
       "      <th>Fighting</th>\n",
       "      <td>6.69</td>\n",
       "      <td>6.37</td>\n",
       "      <td>12.43</td>\n",
       "      <td>2.73</td>\n",
       "    </tr>\n",
       "    <tr>\n",
       "      <th>Misc</th>\n",
       "      <td>12.86</td>\n",
       "      <td>5.61</td>\n",
       "      <td>15.05</td>\n",
       "      <td>4.03</td>\n",
       "    </tr>\n",
       "    <tr>\n",
       "      <th>Shooter</th>\n",
       "      <td>65.52</td>\n",
       "      <td>4.87</td>\n",
       "      <td>79.02</td>\n",
       "      <td>21.53</td>\n",
       "    </tr>\n",
       "  </tbody>\n",
       "</table>\n",
       "</div>"
      ],
      "text/plain": [
       "              eu_sales  jp_sales  na_sales  other_sales\n",
       "genre                                                  \n",
       "Role-Playing     28.17     31.16     33.47         8.64\n",
       "Action           74.68     29.58     72.53        22.57\n",
       "Fighting          6.69      6.37     12.43         2.73\n",
       "Misc             12.86      5.61     15.05         4.03\n",
       "Shooter          65.52      4.87     79.02        21.53"
      ]
     },
     "execution_count": 42,
     "metadata": {},
     "output_type": "execute_result"
    }
   ],
   "source": [
    "top5_genre.sort_values(by='jp_sales', ascending = False).head()"
   ]
  },
  {
   "cell_type": "code",
   "execution_count": 43,
   "metadata": {},
   "outputs": [
    {
     "data": {
      "text/html": [
       "<div>\n",
       "<style scoped>\n",
       "    .dataframe tbody tr th:only-of-type {\n",
       "        vertical-align: middle;\n",
       "    }\n",
       "\n",
       "    .dataframe tbody tr th {\n",
       "        vertical-align: top;\n",
       "    }\n",
       "\n",
       "    .dataframe thead th {\n",
       "        text-align: right;\n",
       "    }\n",
       "</style>\n",
       "<table border=\"1\" class=\"dataframe\">\n",
       "  <thead>\n",
       "    <tr style=\"text-align: right;\">\n",
       "      <th></th>\n",
       "      <th>eu_sales</th>\n",
       "      <th>jp_sales</th>\n",
       "      <th>na_sales</th>\n",
       "      <th>other_sales</th>\n",
       "    </tr>\n",
       "    <tr>\n",
       "      <th>genre</th>\n",
       "      <th></th>\n",
       "      <th></th>\n",
       "      <th></th>\n",
       "      <th></th>\n",
       "    </tr>\n",
       "  </thead>\n",
       "  <tbody>\n",
       "    <tr>\n",
       "      <th>Shooter</th>\n",
       "      <td>65.52</td>\n",
       "      <td>4.87</td>\n",
       "      <td>79.02</td>\n",
       "      <td>21.53</td>\n",
       "    </tr>\n",
       "    <tr>\n",
       "      <th>Action</th>\n",
       "      <td>74.68</td>\n",
       "      <td>29.58</td>\n",
       "      <td>72.53</td>\n",
       "      <td>22.57</td>\n",
       "    </tr>\n",
       "    <tr>\n",
       "      <th>Sports</th>\n",
       "      <td>45.73</td>\n",
       "      <td>3.26</td>\n",
       "      <td>46.13</td>\n",
       "      <td>14.36</td>\n",
       "    </tr>\n",
       "    <tr>\n",
       "      <th>Role-Playing</th>\n",
       "      <td>28.17</td>\n",
       "      <td>31.16</td>\n",
       "      <td>33.47</td>\n",
       "      <td>8.64</td>\n",
       "    </tr>\n",
       "    <tr>\n",
       "      <th>Misc</th>\n",
       "      <td>12.86</td>\n",
       "      <td>5.61</td>\n",
       "      <td>15.05</td>\n",
       "      <td>4.03</td>\n",
       "    </tr>\n",
       "  </tbody>\n",
       "</table>\n",
       "</div>"
      ],
      "text/plain": [
       "              eu_sales  jp_sales  na_sales  other_sales\n",
       "genre                                                  \n",
       "Shooter          65.52      4.87     79.02        21.53\n",
       "Action           74.68     29.58     72.53        22.57\n",
       "Sports           45.73      3.26     46.13        14.36\n",
       "Role-Playing     28.17     31.16     33.47         8.64\n",
       "Misc             12.86      5.61     15.05         4.03"
      ]
     },
     "execution_count": 43,
     "metadata": {},
     "output_type": "execute_result"
    }
   ],
   "source": [
    "top5_genre.sort_values(by='na_sales', ascending = False).head()"
   ]
  },
  {
   "cell_type": "code",
   "execution_count": 44,
   "metadata": {},
   "outputs": [
    {
     "data": {
      "text/html": [
       "<div>\n",
       "<style scoped>\n",
       "    .dataframe tbody tr th:only-of-type {\n",
       "        vertical-align: middle;\n",
       "    }\n",
       "\n",
       "    .dataframe tbody tr th {\n",
       "        vertical-align: top;\n",
       "    }\n",
       "\n",
       "    .dataframe thead th {\n",
       "        text-align: right;\n",
       "    }\n",
       "</style>\n",
       "<table border=\"1\" class=\"dataframe\">\n",
       "  <thead>\n",
       "    <tr style=\"text-align: right;\">\n",
       "      <th></th>\n",
       "      <th>eu_sales</th>\n",
       "      <th>jp_sales</th>\n",
       "      <th>na_sales</th>\n",
       "      <th>other_sales</th>\n",
       "    </tr>\n",
       "    <tr>\n",
       "      <th>genre</th>\n",
       "      <th></th>\n",
       "      <th></th>\n",
       "      <th></th>\n",
       "      <th></th>\n",
       "    </tr>\n",
       "  </thead>\n",
       "  <tbody>\n",
       "    <tr>\n",
       "      <th>Shooter</th>\n",
       "      <td>65.52</td>\n",
       "      <td>4.87</td>\n",
       "      <td>79.02</td>\n",
       "      <td>21.53</td>\n",
       "    </tr>\n",
       "    <tr>\n",
       "      <th>Action</th>\n",
       "      <td>74.68</td>\n",
       "      <td>29.58</td>\n",
       "      <td>72.53</td>\n",
       "      <td>22.57</td>\n",
       "    </tr>\n",
       "    <tr>\n",
       "      <th>Sports</th>\n",
       "      <td>45.73</td>\n",
       "      <td>3.26</td>\n",
       "      <td>46.13</td>\n",
       "      <td>14.36</td>\n",
       "    </tr>\n",
       "    <tr>\n",
       "      <th>Role-Playing</th>\n",
       "      <td>28.17</td>\n",
       "      <td>31.16</td>\n",
       "      <td>33.47</td>\n",
       "      <td>8.64</td>\n",
       "    </tr>\n",
       "    <tr>\n",
       "      <th>Misc</th>\n",
       "      <td>12.86</td>\n",
       "      <td>5.61</td>\n",
       "      <td>15.05</td>\n",
       "      <td>4.03</td>\n",
       "    </tr>\n",
       "  </tbody>\n",
       "</table>\n",
       "</div>"
      ],
      "text/plain": [
       "              eu_sales  jp_sales  na_sales  other_sales\n",
       "genre                                                  \n",
       "Shooter          65.52      4.87     79.02        21.53\n",
       "Action           74.68     29.58     72.53        22.57\n",
       "Sports           45.73      3.26     46.13        14.36\n",
       "Role-Playing     28.17     31.16     33.47         8.64\n",
       "Misc             12.86      5.61     15.05         4.03"
      ]
     },
     "execution_count": 44,
     "metadata": {},
     "output_type": "execute_result"
    }
   ],
   "source": [
    "top5_genre.sort_values(by='na_sales', ascending = False).head()"
   ]
  },
  {
   "cell_type": "markdown",
   "metadata": {},
   "source": [
    "* В Европе предпочитают экшн, вслед за ним стрелялки, потом спортивный жанр, ролевые игры и  Racing\n",
    "* В Японии самые популярные ролевые игры, на втором месте экшн, потом Misc и стрелялки\n",
    "* В Америке и остальных странах самый популярный жанр экшн, вслед за ним стрелялки, потом спорт, ролевые игры и Misc\n",
    "\n",
    "Похоже, что в жанровых предпочтениях Япония тоже сильно выделяется. Европа отличается от остального мира только в последнем пункте топа. \n"
   ]
  },
  {
   "cell_type": "markdown",
   "metadata": {},
   "source": [
    "### Влияние рейтинга ESRB на продажи в отдельном регионе"
   ]
  },
  {
   "cell_type": "code",
   "execution_count": 45,
   "metadata": {},
   "outputs": [
    {
     "data": {
      "text/plain": [
       "array(['E', 'E10+', 'T', nan, 'M'], dtype=object)"
      ]
     },
     "execution_count": 45,
     "metadata": {},
     "output_type": "execute_result"
    }
   ],
   "source": [
    "new_data2017['rating'].unique()"
   ]
  },
  {
   "cell_type": "markdown",
   "metadata": {},
   "source": [
    "#### Предобработка\n",
    "Пропуски в рейтингах заменяем на \"unknown\"  "
   ]
  },
  {
   "cell_type": "code",
   "execution_count": 46,
   "metadata": {},
   "outputs": [],
   "source": [
    "new_data2017.loc[new_data2017['rating'].isna(), 'rating'] = \"unknown\""
   ]
  },
  {
   "cell_type": "markdown",
   "metadata": {},
   "source": [
    "### Ответ на вопрос"
   ]
  },
  {
   "cell_type": "code",
   "execution_count": 47,
   "metadata": {},
   "outputs": [
    {
     "data": {
      "text/html": [
       "<div>\n",
       "<style scoped>\n",
       "    .dataframe tbody tr th:only-of-type {\n",
       "        vertical-align: middle;\n",
       "    }\n",
       "\n",
       "    .dataframe tbody tr th {\n",
       "        vertical-align: top;\n",
       "    }\n",
       "\n",
       "    .dataframe thead th {\n",
       "        text-align: right;\n",
       "    }\n",
       "</style>\n",
       "<table border=\"1\" class=\"dataframe\">\n",
       "  <thead>\n",
       "    <tr style=\"text-align: right;\">\n",
       "      <th></th>\n",
       "      <th>jp_sales</th>\n",
       "    </tr>\n",
       "    <tr>\n",
       "      <th>rating</th>\n",
       "      <th></th>\n",
       "    </tr>\n",
       "  </thead>\n",
       "  <tbody>\n",
       "    <tr>\n",
       "      <th>unknown</th>\n",
       "      <td>56.90</td>\n",
       "    </tr>\n",
       "    <tr>\n",
       "      <th>T</th>\n",
       "      <td>14.78</td>\n",
       "    </tr>\n",
       "    <tr>\n",
       "      <th>E</th>\n",
       "      <td>8.94</td>\n",
       "    </tr>\n",
       "    <tr>\n",
       "      <th>M</th>\n",
       "      <td>8.01</td>\n",
       "    </tr>\n",
       "    <tr>\n",
       "      <th>E10+</th>\n",
       "      <td>4.46</td>\n",
       "    </tr>\n",
       "  </tbody>\n",
       "</table>\n",
       "</div>"
      ],
      "text/plain": [
       "         jp_sales\n",
       "rating           \n",
       "unknown     56.90\n",
       "T           14.78\n",
       "E            8.94\n",
       "M            8.01\n",
       "E10+         4.46"
      ]
     },
     "execution_count": 47,
     "metadata": {},
     "output_type": "execute_result"
    }
   ],
   "source": [
    "new_data2017.groupby('rating').agg({'jp_sales':'sum'}).sort_values(by='jp_sales', ascending=False)"
   ]
  },
  {
   "cell_type": "code",
   "execution_count": 48,
   "metadata": {},
   "outputs": [
    {
     "data": {
      "text/html": [
       "<div>\n",
       "<style scoped>\n",
       "    .dataframe tbody tr th:only-of-type {\n",
       "        vertical-align: middle;\n",
       "    }\n",
       "\n",
       "    .dataframe tbody tr th {\n",
       "        vertical-align: top;\n",
       "    }\n",
       "\n",
       "    .dataframe thead th {\n",
       "        text-align: right;\n",
       "    }\n",
       "</style>\n",
       "<table border=\"1\" class=\"dataframe\">\n",
       "  <thead>\n",
       "    <tr style=\"text-align: right;\">\n",
       "      <th></th>\n",
       "      <th>eu_sales</th>\n",
       "    </tr>\n",
       "    <tr>\n",
       "      <th>rating</th>\n",
       "      <th></th>\n",
       "    </tr>\n",
       "  </thead>\n",
       "  <tbody>\n",
       "    <tr>\n",
       "      <th>M</th>\n",
       "      <td>93.44</td>\n",
       "    </tr>\n",
       "    <tr>\n",
       "      <th>unknown</th>\n",
       "      <td>58.95</td>\n",
       "    </tr>\n",
       "    <tr>\n",
       "      <th>E</th>\n",
       "      <td>58.06</td>\n",
       "    </tr>\n",
       "    <tr>\n",
       "      <th>T</th>\n",
       "      <td>34.07</td>\n",
       "    </tr>\n",
       "    <tr>\n",
       "      <th>E10+</th>\n",
       "      <td>26.16</td>\n",
       "    </tr>\n",
       "  </tbody>\n",
       "</table>\n",
       "</div>"
      ],
      "text/plain": [
       "         eu_sales\n",
       "rating           \n",
       "M           93.44\n",
       "unknown     58.95\n",
       "E           58.06\n",
       "T           34.07\n",
       "E10+        26.16"
      ]
     },
     "execution_count": 48,
     "metadata": {},
     "output_type": "execute_result"
    }
   ],
   "source": [
    "new_data2017.groupby('rating').agg({'eu_sales':'sum'}).sort_values(by='eu_sales', ascending=False)"
   ]
  },
  {
   "cell_type": "code",
   "execution_count": 49,
   "metadata": {},
   "outputs": [
    {
     "data": {
      "text/html": [
       "<div>\n",
       "<style scoped>\n",
       "    .dataframe tbody tr th:only-of-type {\n",
       "        vertical-align: middle;\n",
       "    }\n",
       "\n",
       "    .dataframe tbody tr th {\n",
       "        vertical-align: top;\n",
       "    }\n",
       "\n",
       "    .dataframe thead th {\n",
       "        text-align: right;\n",
       "    }\n",
       "</style>\n",
       "<table border=\"1\" class=\"dataframe\">\n",
       "  <thead>\n",
       "    <tr style=\"text-align: right;\">\n",
       "      <th></th>\n",
       "      <th>na_sales</th>\n",
       "    </tr>\n",
       "    <tr>\n",
       "      <th>rating</th>\n",
       "      <th></th>\n",
       "    </tr>\n",
       "  </thead>\n",
       "  <tbody>\n",
       "    <tr>\n",
       "      <th>M</th>\n",
       "      <td>96.42</td>\n",
       "    </tr>\n",
       "    <tr>\n",
       "      <th>unknown</th>\n",
       "      <td>64.72</td>\n",
       "    </tr>\n",
       "    <tr>\n",
       "      <th>E</th>\n",
       "      <td>50.74</td>\n",
       "    </tr>\n",
       "    <tr>\n",
       "      <th>T</th>\n",
       "      <td>38.95</td>\n",
       "    </tr>\n",
       "    <tr>\n",
       "      <th>E10+</th>\n",
       "      <td>33.23</td>\n",
       "    </tr>\n",
       "  </tbody>\n",
       "</table>\n",
       "</div>"
      ],
      "text/plain": [
       "         na_sales\n",
       "rating           \n",
       "M           96.42\n",
       "unknown     64.72\n",
       "E           50.74\n",
       "T           38.95\n",
       "E10+        33.23"
      ]
     },
     "execution_count": 49,
     "metadata": {},
     "output_type": "execute_result"
    }
   ],
   "source": [
    "new_data2017.groupby('rating').agg({'na_sales':'sum'}).sort_values(by='na_sales', ascending=False)"
   ]
  },
  {
   "cell_type": "code",
   "execution_count": 50,
   "metadata": {},
   "outputs": [
    {
     "data": {
      "text/html": [
       "<div>\n",
       "<style scoped>\n",
       "    .dataframe tbody tr th:only-of-type {\n",
       "        vertical-align: middle;\n",
       "    }\n",
       "\n",
       "    .dataframe tbody tr th {\n",
       "        vertical-align: top;\n",
       "    }\n",
       "\n",
       "    .dataframe thead th {\n",
       "        text-align: right;\n",
       "    }\n",
       "</style>\n",
       "<table border=\"1\" class=\"dataframe\">\n",
       "  <thead>\n",
       "    <tr style=\"text-align: right;\">\n",
       "      <th></th>\n",
       "      <th>other_sales</th>\n",
       "    </tr>\n",
       "    <tr>\n",
       "      <th>rating</th>\n",
       "      <th></th>\n",
       "    </tr>\n",
       "  </thead>\n",
       "  <tbody>\n",
       "    <tr>\n",
       "      <th>M</th>\n",
       "      <td>28.67</td>\n",
       "    </tr>\n",
       "    <tr>\n",
       "      <th>unknown</th>\n",
       "      <td>18.40</td>\n",
       "    </tr>\n",
       "    <tr>\n",
       "      <th>E</th>\n",
       "      <td>15.39</td>\n",
       "    </tr>\n",
       "    <tr>\n",
       "      <th>T</th>\n",
       "      <td>11.33</td>\n",
       "    </tr>\n",
       "    <tr>\n",
       "      <th>E10+</th>\n",
       "      <td>7.83</td>\n",
       "    </tr>\n",
       "  </tbody>\n",
       "</table>\n",
       "</div>"
      ],
      "text/plain": [
       "         other_sales\n",
       "rating              \n",
       "M              28.67\n",
       "unknown        18.40\n",
       "E              15.39\n",
       "T              11.33\n",
       "E10+            7.83"
      ]
     },
     "execution_count": 50,
     "metadata": {},
     "output_type": "execute_result"
    }
   ],
   "source": [
    "new_data2017.groupby('rating').agg({'other_sales':'sum'}).sort_values(by='other_sales', ascending=False)"
   ]
  },
  {
   "cell_type": "markdown",
   "metadata": {},
   "source": [
    "### Вывод\n",
    "* В во всем мире кроме Японии самые популярные игры для взрослых, затем большая доля игр, в которых нет рейтинга, на третьем месте игры для детей, потом игры для тинейджеров. В Японии  большая часть игр это игры с неопределенными возрастными ограничениями, на втором месте игры для подростков, на втором месте для подростков и на третьем - для детей. Игры 10+ во всех странах на последнем месте "
   ]
  },
  {
   "cell_type": "code",
   "execution_count": 51,
   "metadata": {},
   "outputs": [
    {
     "data": {
      "text/html": [
       "<div>\n",
       "<style scoped>\n",
       "    .dataframe tbody tr th:only-of-type {\n",
       "        vertical-align: middle;\n",
       "    }\n",
       "\n",
       "    .dataframe tbody tr th {\n",
       "        vertical-align: top;\n",
       "    }\n",
       "\n",
       "    .dataframe thead th {\n",
       "        text-align: right;\n",
       "    }\n",
       "</style>\n",
       "<table border=\"1\" class=\"dataframe\">\n",
       "  <thead>\n",
       "    <tr style=\"text-align: right;\">\n",
       "      <th></th>\n",
       "      <th>na_sales</th>\n",
       "    </tr>\n",
       "    <tr>\n",
       "      <th>rating</th>\n",
       "      <th></th>\n",
       "    </tr>\n",
       "  </thead>\n",
       "  <tbody>\n",
       "    <tr>\n",
       "      <th>M</th>\n",
       "      <td>96.42</td>\n",
       "    </tr>\n",
       "    <tr>\n",
       "      <th>unknown</th>\n",
       "      <td>64.72</td>\n",
       "    </tr>\n",
       "    <tr>\n",
       "      <th>E</th>\n",
       "      <td>50.74</td>\n",
       "    </tr>\n",
       "    <tr>\n",
       "      <th>T</th>\n",
       "      <td>38.95</td>\n",
       "    </tr>\n",
       "    <tr>\n",
       "      <th>E10+</th>\n",
       "      <td>33.23</td>\n",
       "    </tr>\n",
       "  </tbody>\n",
       "</table>\n",
       "</div>"
      ],
      "text/plain": [
       "         na_sales\n",
       "rating           \n",
       "M           96.42\n",
       "unknown     64.72\n",
       "E           50.74\n",
       "T           38.95\n",
       "E10+        33.23"
      ]
     },
     "execution_count": 51,
     "metadata": {},
     "output_type": "execute_result"
    }
   ],
   "source": [
    "# код ревьювера\n",
    "new_data2017.groupby('rating').agg({'na_sales':'sum'}).sort_values(by='na_sales', ascending=False)"
   ]
  },
  {
   "cell_type": "markdown",
   "metadata": {},
   "source": [
    "## <a id='4-bullet'></a>  Часть 4. Проверьте гипотезы\n",
    "* Средние пользовательские рейтинги платформ Xbox One и PC одинаковые.\n",
    "* Средние пользовательские рейтинги жанров Action (англ. «действие», экшен-игры) и Sports (англ. «спортивные соревнования») разные\n",
    "\n",
    "Для проверки гипотезу лучше всего подходит т-тест для двух совокупностей, поскольку у нас много данных (больше 30:)) и две совокупности, которые нужно сравнить. Нулевая гипотеза в том, что две совокупности равны. То есть, что нет разницы между Xbox и PC. В случае второй гипотезы, что пользователи одинаково оценивают два жанра игры - спорт и экшн.  Если эта гипотеза не верна, то принимаем альтернативную - что они не равны, что есть разница в пользовательских оценках. Значение для альфа выбираем стандартное 0.05. Перед анализом надо посчитать дисперсию, если она сильно отличается в данных, то установим equal_var = False. "
   ]
  },
  {
   "cell_type": "code",
   "execution_count": 52,
   "metadata": {},
   "outputs": [],
   "source": [
    "xbox = new_data2017.query('platform==\"XOne\"')['new_user_score']\n",
    "pc = new_data2017.query('platform==\"PC\"')['new_user_score']\n"
   ]
  },
  {
   "cell_type": "code",
   "execution_count": 53,
   "metadata": {},
   "outputs": [
    {
     "name": "stdout",
     "output_type": "stream",
     "text": [
      "Дисперсия xbox 1.50371184017312\n",
      "Дисперсия xbox 2.540792052980131\n"
     ]
    }
   ],
   "source": [
    "\n",
    "variance_estimate = np.var(xbox, ddof=1)\n",
    "print('Дисперсия xbox', variance_estimate)\n",
    "variance_estimate = np.var(pc, ddof=1)\n",
    "print('Дисперсия xbox', variance_estimate)"
   ]
  },
  {
   "cell_type": "code",
   "execution_count": 54,
   "metadata": {},
   "outputs": [
    {
     "name": "stdout",
     "output_type": "stream",
     "text": [
      "p-значение: 0.04923676023586829\n",
      "Отвергаем нулевую гипотезу\n"
     ]
    }
   ],
   "source": [
    "from scipy import stats as st\n",
    "import numpy as np\n",
    "alpha = .05 \n",
    "\n",
    "results = st.ttest_ind(xbox, pc, equal_var = False)\n",
    "\n",
    "print('p-значение:', results.pvalue)\n",
    "\n",
    "if (results.pvalue < alpha):\n",
    "    print(\"Отвергаем нулевую гипотезу\")\n",
    "else:\n",
    "    print(\"Не получилось отвергнуть нулевую гипотезу\")"
   ]
  },
  {
   "cell_type": "code",
   "execution_count": 55,
   "metadata": {},
   "outputs": [],
   "source": [
    "action = new_data2017.query('genre==\"Action\"')['new_user_score']\n",
    "sports = new_data2017.query('genre==\"Sports\"')['new_user_score']"
   ]
  },
  {
   "cell_type": "code",
   "execution_count": 56,
   "metadata": {},
   "outputs": [
    {
     "name": "stdout",
     "output_type": "stream",
     "text": [
      "Дисперсия xbox 1.005308750411719\n",
      "Дисперсия xbox 3.4309223602484513\n"
     ]
    }
   ],
   "source": [
    "variance_estimate = np.var(action, ddof=1)\n",
    "print('Дисперсия xbox', variance_estimate)\n",
    "variance_estimate = np.var(sports, ddof=1)\n",
    "print('Дисперсия xbox', variance_estimate)"
   ]
  },
  {
   "cell_type": "code",
   "execution_count": 57,
   "metadata": {},
   "outputs": [
    {
     "name": "stdout",
     "output_type": "stream",
     "text": [
      "p-значение: 4.111124290417822e-17\n",
      "Отвергаем нулевую гипотезу\n"
     ]
    }
   ],
   "source": [
    "alpha = .05 \n",
    "\n",
    "results = st.ttest_ind(action, sports, equal_var = False)\n",
    "\n",
    "print('p-значение:', results.pvalue)\n",
    "\n",
    "if (results.pvalue < alpha):\n",
    "    print(\"Отвергаем нулевую гипотезу\")\n",
    "else:\n",
    "    print(\"Не получилось отвергнуть нулевую гипотезу\")"
   ]
  },
  {
   "cell_type": "markdown",
   "metadata": {},
   "source": [
    "### Вывод\n",
    "* Нам не удалось доказать, что есть какая-то разница между средними отзывами пользователей на Плейстешн и Xbox\n",
    "* А вот жанры пользователи оценивают по-разному. Экшн круче! "
   ]
  },
  {
   "cell_type": "markdown",
   "metadata": {},
   "source": [
    "# Вывод\n",
    "* Данные обработаны. заполнены пропуски там, где это было возможно. Добавлены нужные столбцы\n",
    "* С 1980 по 1993 выпускалось очень мало игр. Пик выпусков был в 2007, затем следует спад и небольшой подъем в 2015. На 2016 год может нет всех данных, поэтому нельзя делать вывод, какая тенденция. Поскольку наша задача дать прогноз, то следует учитывать только новые игры, поскольку данные по старым уже не так актуальны. Средний срок жизни платформ от 5 до 10 лет. Для прогноза на 2017г. актуальным периодом можно считать последние 5 лет.\n",
    "* Из тех, кто выжил до 2016г. самые популярные платформы PS(3-4), X360, 3DS, Wii, XOne, WiiU. Из всех платформ на взлете только Плейстешн 4 и XOne. Остальные платформы на спаде. \n",
    "* Самое большое среднее у PS3-4, X360, XOne. Похоже, это самые популярные в мире платформы, в данных был длинный хвост в районе 2,5, которые удалили, чтобы не мешали выбросы при анализе\n",
    "* По одной из самых популярных платформ (PS4) больше всего связь между отзывами критиков и продажами, в меньшей степени связь между отзывами пользователей и продажами. Для остальных платформ корреляция между отзывами критиков и продажами чуууть меньше, чем для самой популярной платформы, можно сказать, что разница не существена. \n",
    "* Самый прибыльные жанры Action и Shooter, с большим отрывом от них идут Role-Playing и Sports. На жанр Puzzle лучше вообще не рассчитывать\n",
    "* Разные регионы предпочитают разные платформы. Больше всего отличается Япония. Самые популярные в Европе платформы это PS3 (доля от общих продаж в Европе 0.2), PS4 (доля 0.2), X360 (доля 0.17), 3DS (доля 0.09), PS4 (доля 0.06) Для Японии самые популярные платформы 3DS (доля от общих продаж в Японии 0.4), PS3 (доля 0.2), с большим отрывом PSP (доля 0.09), PSV (доля 0.08) и PS4 (доля 0.06). В Америке самые популярные платформы X360 (доля 0.27), PS3 (доля 0.2), PS4 (доля 0.13), XOne (доля 0.11), 3DS (доля 0.09).Самые популярные платформы в других странах PS3 (доля 0.3), PS4 (доля 0.2), X360 (доля 0.15), XOne (доля 0.06), 3DS (0.06) \n",
    "* Отличия в жанрововых предпочтениях есть только у Японии. Остальные страны сходятся на том, больше всего предпочитают экшн, вслед за ним стрелялки, потом спортивный жанр, ролевые игры и Racing/Misc. А в Японии самые популярные ролевые игры, на втором месте экшн, потом Misc и стрелялки.\n",
    "*  В во всем мире кроме Японии самые популярные игры для взрослых, затем большая доля игр, в которых нет рейтинга, на третьем месте игры для детей, потом игры для тинейджеров. В Японии  большая часть игр это игры с неопределенными возрастными ограничениями, на втором месте игры для подростков, на втором месте для подростков и на третьем - для детей. \n",
    "* Проверка гипотезы не выявила разницы между оценками пользователей платформ PC и XOne\n",
    "* А вот в оценках пользователей жанров есть разница. Экшн больше ценится"
   ]
  },
  {
   "cell_type": "code",
   "execution_count": null,
   "metadata": {},
   "outputs": [],
   "source": []
  }
 ],
 "metadata": {
  "kernelspec": {
   "display_name": "Python 3",
   "language": "python",
   "name": "python3"
  },
  "language_info": {
   "codemirror_mode": {
    "name": "ipython",
    "version": 3
   },
   "file_extension": ".py",
   "mimetype": "text/x-python",
   "name": "python",
   "nbconvert_exporter": "python",
   "pygments_lexer": "ipython3",
   "version": "3.7.6"
  }
 },
 "nbformat": 4,
 "nbformat_minor": 2
}
